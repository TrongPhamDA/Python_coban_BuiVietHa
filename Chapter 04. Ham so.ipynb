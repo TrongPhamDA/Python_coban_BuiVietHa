{
 "cells": [
  {
   "cell_type": "code",
   "execution_count": 4,
   "metadata": {},
   "outputs": [
    {
     "name": "stdout",
     "output_type": "stream",
     "text": [
      "27\n",
      "1\n"
     ]
    }
   ],
   "source": [
    "#1\n",
    "kq=1\n",
    "def calc(x):\n",
    "    kq=4*x-1\n",
    "    return kq\n",
    "\n",
    "print(calc(7), kq, sep='\\n')"
   ]
  },
  {
   "cell_type": "code",
   "execution_count": 7,
   "metadata": {},
   "outputs": [
    {
     "name": "stdout",
     "output_type": "stream",
     "text": [
      "x  =4\n",
      "y  =16\n",
      "x+y=20\n"
     ]
    }
   ],
   "source": [
    "#2\n",
    "def f(x):\n",
    "    return x**2, x**x**x\n",
    "\n",
    "x, y = f(2)\n",
    "print(f'x  ={x}\\ny  ={y}\\nx+y={x+y}')"
   ]
  },
  {
   "cell_type": "code",
   "execution_count": 9,
   "metadata": {},
   "outputs": [
    {
     "name": "stdout",
     "output_type": "stream",
     "text": [
      "6\n",
      "27\n",
      "25\n"
     ]
    }
   ],
   "source": [
    "#3\n",
    "fa = lambda x, y, z: x + y + z\n",
    "fb = lambda x, y, z: x**(y+z)\n",
    "fc = lambda x, y: (x+y)**2\n",
    "\n",
    "x=3 ; y=2; z=1\n",
    "print(fa(x, y, z))\n",
    "print(fb(x, y, z))\n",
    "print(fc(x, y))"
   ]
  },
  {
   "cell_type": "code",
   "execution_count": 21,
   "metadata": {},
   "outputs": [
    {
     "name": "stdout",
     "output_type": "stream",
     "text": [
      "3\n",
      "1\n",
      "2\n",
      "2\n",
      "8\n"
     ]
    }
   ],
   "source": [
    "#4\n",
    "#a) Hàm đếm các ước số thực sự của N\n",
    "def uocsothucsu_count(n):\n",
    "    cnt = 0\n",
    "    for i in range(1, n):\n",
    "        if n % i == 0: cnt += 1\n",
    "    return cnt\n",
    "\n",
    "#b) Hàm trả lại 1 nếu số N là nguyên tố, ngược lại trả về 0\n",
    "def songuyento_check(n):\n",
    "    cnt = 0\n",
    "    i   = 1\n",
    "    while (cnt <= 1) and (i < n):\n",
    "        if n % i == 0: cnt += 1\n",
    "        i += 1\n",
    "    if cnt == 1: return 1\n",
    "    else: return 0        \n",
    "\n",
    "#c) Hàm đếm các ước số lẻ của N\n",
    "def uocsole_count(n):\n",
    "    cnt = 0\n",
    "    for i in range(1, n):\n",
    "        if (n % i == 0) and (i % 2 == 1): cnt += 1\n",
    "    return cnt\n",
    "\n",
    "#d) Hàm đếm số các ước số nguyên tố của N\n",
    "def uocsonguyento_count(n):\n",
    "    cnt = 0\n",
    "    for i in range(1, n):\n",
    "        if (n % i == 0) and (songuyento_check(i) == 1): cnt += 1\n",
    "    return cnt\n",
    "#e) Hàm tính tổng tất cả các ước số thực sự của N\n",
    "def uocsothucsu_sum(n):\n",
    "    sum = 0\n",
    "    for i in range(1, n):\n",
    "        if n % i == 0: sum += i\n",
    "    return sum\n",
    "\n",
    "#ex:\n",
    "print(uocsothucsu_count(10))\n",
    "print(songuyento_check(97))\n",
    "print(uocsole_count(10))\n",
    "print(uocsonguyento_count(10))\n",
    "print(uocsothucsu_sum(10))"
   ]
  },
  {
   "cell_type": "code",
   "execution_count": 28,
   "metadata": {},
   "outputs": [
    {
     "name": "stdout",
     "output_type": "stream",
     "text": [
      "2\n",
      "1\n",
      "6\n"
     ]
    }
   ],
   "source": [
    "#5\n",
    "#a) Đếm số ước số chung của m, n\n",
    "def uocsochung_count(m, n):\n",
    "    cnt = 0\n",
    "    for i in range(1, min(m, n)):\n",
    "        if m % i == 0 and n % i == 0: cnt += 1\n",
    "    return cnt\n",
    "\n",
    "#b) đếm số ước số của m, mà không là ước số của n\n",
    "def uocso_left_count(m, n):\n",
    "    cnt = 0\n",
    "    for i in range(1, min(m, n)):\n",
    "        if m % i == 0 and n % i != 0: cnt += 1\n",
    "    return cnt\n",
    "\n",
    "#c) Tổng các ước số chung của m, n\n",
    "def uocsochung_sum(m, n):\n",
    "    sum = 0\n",
    "    for i in range(1, min(m, n)):\n",
    "        if m % i == 0 and n % i == 0: sum += i\n",
    "    return sum\n",
    "\n",
    "#Ex\n",
    "m = 15; n = 10\n",
    "#uoc so 15: 1, 3, 5\n",
    "#uoc so 10: 1, 2, 5\n",
    "print(uocsochung_count(m, n))\n",
    "print(uocso_left_count(m, n))\n",
    "print(uocsochung_sum(m, n))\n"
   ]
  },
  {
   "cell_type": "code",
   "execution_count": null,
   "metadata": {},
   "outputs": [],
   "source": [
    "#"
   ]
  }
 ],
 "metadata": {
  "kernelspec": {
   "display_name": "Python 3.9.6 64-bit",
   "language": "python",
   "name": "python3"
  },
  "language_info": {
   "codemirror_mode": {
    "name": "ipython",
    "version": 3
   },
   "file_extension": ".py",
   "mimetype": "text/x-python",
   "name": "python",
   "nbconvert_exporter": "python",
   "pygments_lexer": "ipython3",
   "version": "3.9.6"
  },
  "orig_nbformat": 4,
  "vscode": {
   "interpreter": {
    "hash": "bbc25e548b8fdb4739872b66bb4c170fba8f94c647bc6fede3672cd60c9fe150"
   }
  }
 },
 "nbformat": 4,
 "nbformat_minor": 2
}

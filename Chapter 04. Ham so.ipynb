{
 "cells": [
  {
   "cell_type": "code",
   "execution_count": 4,
   "metadata": {},
   "outputs": [
    {
     "name": "stdout",
     "output_type": "stream",
     "text": [
      "27\n",
      "1\n"
     ]
    }
   ],
   "source": [
    "#1\n",
    "kq=1\n",
    "def calc(x):\n",
    "    kq=4*x-1\n",
    "    return kq\n",
    "\n",
    "print(calc(7), kq, sep='\\n')"
   ]
  },
  {
   "cell_type": "code",
   "execution_count": 7,
   "metadata": {},
   "outputs": [
    {
     "name": "stdout",
     "output_type": "stream",
     "text": [
      "x  =4\n",
      "y  =16\n",
      "x+y=20\n"
     ]
    }
   ],
   "source": [
    "#2\n",
    "def f(x):\n",
    "    return x**2, x**x**x\n",
    "\n",
    "x, y = f(2)\n",
    "print(f'x  ={x}\\ny  ={y}\\nx+y={x+y}')"
   ]
  },
  {
   "cell_type": "code",
   "execution_count": 9,
   "metadata": {},
   "outputs": [
    {
     "name": "stdout",
     "output_type": "stream",
     "text": [
      "6\n",
      "27\n",
      "25\n"
     ]
    }
   ],
   "source": [
    "#3\n",
    "fa = lambda x, y, z: x + y + z\n",
    "fb = lambda x, y, z: x**(y+z)\n",
    "fc = lambda x, y: (x+y)**2\n",
    "\n",
    "x=3 ; y=2; z=1\n",
    "print(fa(x, y, z))\n",
    "print(fb(x, y, z))\n",
    "print(fc(x, y))"
   ]
  },
  {
   "cell_type": "code",
   "execution_count": 21,
   "metadata": {},
   "outputs": [
    {
     "name": "stdout",
     "output_type": "stream",
     "text": [
      "3\n",
      "1\n",
      "2\n",
      "2\n",
      "8\n"
     ]
    }
   ],
   "source": [
    "#4\n",
    "#a) Hàm đếm các ước số thực sự của N\n",
    "def uocsothucsu_count(n):\n",
    "    cnt = 0\n",
    "    for i in range(1, n):\n",
    "        if n % i == 0: cnt += 1\n",
    "    return cnt\n",
    "\n",
    "#b) Hàm trả lại 1 nếu số N là nguyên tố, ngược lại trả về 0\n",
    "def songuyento_check(n):\n",
    "    cnt = 0\n",
    "    i   = 1\n",
    "    while (cnt <= 1) and (i < n):\n",
    "        if n % i == 0: cnt += 1\n",
    "        i += 1\n",
    "    if cnt == 1: return 1\n",
    "    else: return 0        \n",
    "\n",
    "#c) Hàm đếm các ước số lẻ của N\n",
    "def uocsole_count(n):\n",
    "    cnt = 0\n",
    "    for i in range(1, n):\n",
    "        if (n % i == 0) and (i % 2 == 1): cnt += 1\n",
    "    return cnt\n",
    "\n",
    "#d) Hàm đếm số các ước số nguyên tố của N\n",
    "def uocsonguyento_count(n):\n",
    "    cnt = 0\n",
    "    for i in range(1, n):\n",
    "        if (n % i == 0) and (songuyento_check(i) == 1): cnt += 1\n",
    "    return cnt\n",
    "#e) Hàm tính tổng tất cả các ước số thực sự của N\n",
    "def uocsothucsu_sum(n):\n",
    "    sum = 0\n",
    "    for i in range(1, n):\n",
    "        if n % i == 0: sum += i\n",
    "    return sum\n",
    "\n",
    "#ex:\n",
    "print(uocsothucsu_count(10))\n",
    "print(songuyento_check(97))\n",
    "print(uocsole_count(10))\n",
    "print(uocsonguyento_count(10))\n",
    "print(uocsothucsu_sum(10))"
   ]
  },
  {
   "cell_type": "code",
   "execution_count": 28,
   "metadata": {},
   "outputs": [
    {
     "name": "stdout",
     "output_type": "stream",
     "text": [
      "2\n",
      "1\n",
      "6\n"
     ]
    }
   ],
   "source": [
    "#5\n",
    "#a) Đếm số ước số chung của m, n\n",
    "def uocsochung_count(m, n):\n",
    "    cnt = 0\n",
    "    for i in range(1, min(m, n)):\n",
    "        if m % i == 0 and n % i == 0: cnt += 1\n",
    "    return cnt\n",
    "\n",
    "#b) đếm số ước số của m, mà không là ước số của n\n",
    "def uocso_left_count(m, n):\n",
    "    cnt = 0\n",
    "    for i in range(1, min(m, n)):\n",
    "        if m % i == 0 and n % i != 0: cnt += 1\n",
    "    return cnt\n",
    "\n",
    "#c) Tổng các ước số chung của m, n\n",
    "def uocsochung_sum(m, n):\n",
    "    sum = 0\n",
    "    for i in range(1, min(m, n)):\n",
    "        if m % i == 0 and n % i == 0: sum += i\n",
    "    return sum\n",
    "\n",
    "#Ex\n",
    "m = 15; n = 10\n",
    "#uoc so 15: 1, 3, 5\n",
    "#uoc so 10: 1, 2, 5\n",
    "print(uocsochung_count(m, n))\n",
    "print(uocso_left_count(m, n))\n",
    "print(uocsochung_sum(m, n))"
   ]
  },
  {
   "cell_type": "code",
   "execution_count": 32,
   "metadata": {},
   "outputs": [
    {
     "name": "stdout",
     "output_type": "stream",
     "text": [
      "3.141592653589793\n"
     ]
    }
   ],
   "source": [
    "#6 convert degree to radian\n",
    "def to_radian(d):\n",
    "    import math\n",
    "    return d / 180 * math.pi\n",
    "\n",
    "print(to_radian(180))"
   ]
  },
  {
   "cell_type": "code",
   "execution_count": 34,
   "metadata": {},
   "outputs": [
    {
     "name": "stdout",
     "output_type": "stream",
     "text": [
      "90.0\n"
     ]
    }
   ],
   "source": [
    "#7 convert radian to degree\n",
    "def to_degree(r):\n",
    "    import math\n",
    "    return r / math.pi * 180\n",
    "\n",
    "print(to_degree(to_radian(90)))"
   ]
  },
  {
   "cell_type": "code",
   "execution_count": 37,
   "metadata": {},
   "outputs": [
    {
     "name": "stdout",
     "output_type": "stream",
     "text": [
      "1\n"
     ]
    }
   ],
   "source": [
    "#8\n",
    "def f8(x, y, R):\n",
    "    R = x**2 + y**2\n",
    "    return\n",
    "R=1\n",
    "f8(3, 4, R)\n",
    "\n",
    "print(R)"
   ]
  },
  {
   "cell_type": "code",
   "execution_count": 38,
   "metadata": {},
   "outputs": [
    {
     "data": {
      "text/plain": [
       "28"
      ]
     },
     "execution_count": 38,
     "metadata": {},
     "output_type": "execute_result"
    }
   ],
   "source": [
    "#9\n",
    "def f9(x, y):\n",
    "    return x**3 + y**3\n",
    "f9(y=1, x=3)"
   ]
  },
  {
   "cell_type": "code",
   "execution_count": 40,
   "metadata": {},
   "outputs": [
    {
     "name": "stdout",
     "output_type": "stream",
     "text": [
      "0.75\n"
     ]
    }
   ],
   "source": [
    "#10\n",
    "def to_days(hh, mm, ss):\n",
    "    return hh/24 + mm/24/60 + ss/24/60/60\n",
    "\n",
    "#hh, mm, ss = eval(input('Nhập Giờ, Phút, Giây: '))\n",
    "print(to_days(18,00,00))"
   ]
  },
  {
   "cell_type": "code",
   "execution_count": 41,
   "metadata": {},
   "outputs": [
    {
     "name": "stdout",
     "output_type": "stream",
     "text": [
      "70.3\n",
      "70.3\n",
      "165.70714285714286\n"
     ]
    }
   ],
   "source": [
    "#11\n",
    "#trai dat m= 9.8\n",
    "#sao moc  m=23.1\n",
    "def your_weigh(w, m=9.8): #default trai dat\n",
    "    earth_gravity = 9.8\n",
    "    return w * m / earth_gravity\n",
    "\n",
    "print(your_weigh(70.3       ))\n",
    "print(your_weigh(70.3,   9.8))\n",
    "print(your_weigh(70.3, 23.1 ))"
   ]
  },
  {
   "cell_type": "code",
   "execution_count": 47,
   "metadata": {},
   "outputs": [],
   "source": [
    "#12 convert: celsius, kelvin, fahrenheit\n",
    "# c = 5/9 * (f - 32)\n",
    "# k = c + 273.15\n",
    "\n",
    "def convert_c2k(c):\n",
    "    return c + 273.15"
   ]
  },
  {
   "cell_type": "code",
   "execution_count": 50,
   "metadata": {},
   "outputs": [
    {
     "name": "stdout",
     "output_type": "stream",
     "text": [
      "c   = 33\n",
      "c2k = 306.15\n",
      "c2k = 306.15\n",
      "c2f = 91.4\n",
      "c2f = 91.4\n"
     ]
    }
   ],
   "source": [
    "#13\n",
    "def convert_c2f(c):\n",
    "    return c * 9 / 5 + 32\n",
    "\n",
    "def convert_k2c(k):\n",
    "    return k - 273.15\n",
    "\n",
    "def convert_k2f(k):\n",
    "    return (k - 273.15) * 9 / 5 + 32\n",
    "\n",
    "def convert_f2c(f):\n",
    "    return 5 / 9 * (f - 32)\n",
    "\n",
    "def convert_f2k(f):\n",
    "    return 5 / 9 * (f - 32) + 273.15\n",
    "\n",
    "#ex\n",
    "c=33\n",
    "print(f'c   = {c}')\n",
    "print(f'c2k = {convert_c2k(c)}')\n",
    "print(f'c2k = {convert_f2k(convert_c2f(c))}')\n",
    "print(f'c2f = {convert_c2f(c)}')\n",
    "print(f'c2f = {convert_k2f(convert_c2k(c))}')"
   ]
  },
  {
   "cell_type": "code",
   "execution_count": 74,
   "metadata": {},
   "outputs": [
    {
     "ename": "NameError",
     "evalue": "name 'y1' is not defined",
     "output_type": "error",
     "traceback": [
      "\u001b[1;31m---------------------------------------------------------------------------\u001b[0m",
      "\u001b[1;31mNameError\u001b[0m                                 Traceback (most recent call last)",
      "\u001b[1;32m~\\AppData\\Local\\Temp/ipykernel_5376/2163939489.py\u001b[0m in \u001b[0;36m<module>\u001b[1;34m\u001b[0m\n\u001b[0;32m      1\u001b[0m \u001b[1;31m#14\u001b[0m\u001b[1;33m\u001b[0m\u001b[1;33m\u001b[0m\u001b[1;33m\u001b[0m\u001b[0m\n\u001b[0;32m      2\u001b[0m \u001b[1;32mdef\u001b[0m \u001b[0mf14\u001b[0m\u001b[1;33m(\u001b[0m\u001b[0mx1\u001b[0m\u001b[1;33m)\u001b[0m\u001b[1;33m:\u001b[0m \u001b[1;32mreturn\u001b[0m \u001b[0mx1\u001b[0m \u001b[1;33m+\u001b[0m \u001b[0my1\u001b[0m \u001b[1;33m+\u001b[0m \u001b[0mz1\u001b[0m\u001b[1;33m\u001b[0m\u001b[1;33m\u001b[0m\u001b[0m\n\u001b[1;32m----> 3\u001b[1;33m \u001b[0mf14\u001b[0m\u001b[1;33m(\u001b[0m\u001b[1;36m1\u001b[0m\u001b[1;33m)\u001b[0m\u001b[1;33m\u001b[0m\u001b[1;33m\u001b[0m\u001b[0m\n\u001b[0m",
      "\u001b[1;32m~\\AppData\\Local\\Temp/ipykernel_5376/2163939489.py\u001b[0m in \u001b[0;36mf14\u001b[1;34m(x1)\u001b[0m\n\u001b[0;32m      1\u001b[0m \u001b[1;31m#14\u001b[0m\u001b[1;33m\u001b[0m\u001b[1;33m\u001b[0m\u001b[1;33m\u001b[0m\u001b[0m\n\u001b[1;32m----> 2\u001b[1;33m \u001b[1;32mdef\u001b[0m \u001b[0mf14\u001b[0m\u001b[1;33m(\u001b[0m\u001b[0mx1\u001b[0m\u001b[1;33m)\u001b[0m\u001b[1;33m:\u001b[0m \u001b[1;32mreturn\u001b[0m \u001b[0mx1\u001b[0m \u001b[1;33m+\u001b[0m \u001b[0my1\u001b[0m \u001b[1;33m+\u001b[0m \u001b[0mz1\u001b[0m\u001b[1;33m\u001b[0m\u001b[1;33m\u001b[0m\u001b[0m\n\u001b[0m\u001b[0;32m      3\u001b[0m \u001b[0mf14\u001b[0m\u001b[1;33m(\u001b[0m\u001b[1;36m1\u001b[0m\u001b[1;33m)\u001b[0m\u001b[1;33m\u001b[0m\u001b[1;33m\u001b[0m\u001b[0m\n",
      "\u001b[1;31mNameError\u001b[0m: name 'y1' is not defined"
     ]
    }
   ],
   "source": [
    "#14\n",
    "def f14(x1): return x1 + y1 + z1\n",
    "f14(1)"
   ]
  },
  {
   "cell_type": "code",
   "execution_count": 87,
   "metadata": {},
   "outputs": [
    {
     "name": "stdout",
     "output_type": "stream",
     "text": [
      "55\n",
      "89 và 97 là 2 số nguyên tố cùng nhau\n",
      "54321 giây = 15 giờ, 5 phút, 21 giây\n",
      "2\n"
     ]
    }
   ],
   "source": [
    "#15\n",
    "#a) tổng 1+2+..+N\n",
    "def sumN(n):\n",
    "    sum = 0\n",
    "    for i in range(1, n+1):\n",
    "        sum += i\n",
    "    return sum\n",
    "\n",
    "#b) 2 so nguyen to cung nhau\n",
    "def haisonguyentocungnhau_print(m, n):\n",
    "        M=m ; N=n\n",
    "        if m>0 and n>0:\n",
    "            while m != n:\n",
    "                if m>n: m = m-n\n",
    "                else  : n = n-m\n",
    "            if m==1: return f'{M} và {N} là 2 số nguyên tố cùng nhau'\n",
    "            else   : return f'{M} và {N} không là 2 số nguyên tố cùng nhau'\n",
    "\n",
    "#c) convert s to 'hh gio, mm phut, ss giay'\n",
    "def convert_second_to_timestring(s):\n",
    "    hh = s // 3600\n",
    "    mm = (s % 3600) // 60\n",
    "    ss = (s % 3600) % 60\n",
    "    return f'{s} giây = {hh} giờ, {mm} phút, {ss} giây'\n",
    "\n",
    "#d) ABS\n",
    "def f_abs(a, b):\n",
    "    if a>b: return a-b\n",
    "    else  : return b-a\n",
    "\n",
    "print(sumN(10))\n",
    "print(haisonguyentocungnhau_print(89, 97))\n",
    "print(convert_second_to_timestring(54321))\n",
    "print(f_abs(4, 6))"
   ]
  },
  {
   "cell_type": "code",
   "execution_count": 102,
   "metadata": {},
   "outputs": [
    {
     "name": "stdout",
     "output_type": "stream",
     "text": [
      "Số N đã nhập = 51\n"
     ]
    }
   ],
   "source": [
    "#16 Nhap N>50\n",
    "def inputN_greaterthan50():\n",
    "    while True:\n",
    "        n = int(input('Nhap so N: '))\n",
    "        if n > 50:\n",
    "            return n\n",
    "\n",
    "print(f'Số N đã nhập = {inputN_greaterthan50()}')"
   ]
  },
  {
   "cell_type": "code",
   "execution_count": null,
   "metadata": {},
   "outputs": [],
   "source": [
    "#17 uoc so nguyen to chung lon nhat\n",
    "def uocsonguyentochunglonnhat(m, n):\n",
    "    def uocsochung_lonnhat(m, n):\n",
    "        while m != n:\n",
    "            if m>n: m = m - n\n",
    "            eles  : n = n - m\n",
    "        return m\n",
    "    if uocsochung_lonnhat(m, n) == 1: return 0\n",
    "    else:\n",
    "        p = i = 2\n",
    "        while \n"
   ]
  }
 ],
 "metadata": {
  "kernelspec": {
   "display_name": "Python 3.9.6 64-bit",
   "language": "python",
   "name": "python3"
  },
  "language_info": {
   "codemirror_mode": {
    "name": "ipython",
    "version": 3
   },
   "file_extension": ".py",
   "mimetype": "text/x-python",
   "name": "python",
   "nbconvert_exporter": "python",
   "pygments_lexer": "ipython3",
   "version": "3.9.6"
  },
  "orig_nbformat": 4,
  "vscode": {
   "interpreter": {
    "hash": "bbc25e548b8fdb4739872b66bb4c170fba8f94c647bc6fede3672cd60c9fe150"
   }
  }
 },
 "nbformat": 4,
 "nbformat_minor": 2
}

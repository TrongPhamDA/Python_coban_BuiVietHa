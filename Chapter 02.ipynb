{
 "cells": [
  {
   "cell_type": "markdown",
   "metadata": {},
   "source": [
    "CÂU HỎI - BẢI TẬP"
   ]
  },
  {
   "cell_type": "code",
   "execution_count": 1,
   "metadata": {},
   "outputs": [],
   "source": [
    "#2\n",
    "x=y=z=1\n",
    "# x=1, y=2, z=3\n",
    "# x,y=1\n",
    "x, y, z = 1, 2, 3"
   ]
  },
  {
   "cell_type": "code",
   "execution_count": 2,
   "metadata": {},
   "outputs": [
    {
     "name": "stdout",
     "output_type": "stream",
     "text": [
      "10\n"
     ]
    }
   ],
   "source": [
    "#3\n",
    "x=10\n",
    "y=x\n",
    "x=20\n",
    "print(y)"
   ]
  },
  {
   "cell_type": "code",
   "execution_count": 3,
   "metadata": {},
   "outputs": [
    {
     "name": "stdout",
     "output_type": "stream",
     "text": [
      "38\n"
     ]
    }
   ],
   "source": [
    "#7\n",
    "print(13+25)"
   ]
  },
  {
   "cell_type": "code",
   "execution_count": 4,
   "metadata": {},
   "outputs": [
    {
     "name": "stdout",
     "output_type": "stream",
     "text": [
      "none\n"
     ]
    }
   ],
   "source": [
    "#10\n",
    "none = 'none'\n",
    "print(none)"
   ]
  },
  {
   "cell_type": "code",
   "execution_count": 5,
   "metadata": {},
   "outputs": [
    {
     "name": "stdout",
     "output_type": "stream",
     "text": [
      "9\n",
      "6\n",
      "9.0\n",
      "6.0\n"
     ]
    }
   ],
   "source": [
    "#12\n",
    "def xbinh(x): return x**2\n",
    "def xnhan2(x): return x*2\n",
    "\n",
    "x=3 ; y=3.0\n",
    "print(xbinh(x))\n",
    "print(xnhan2(x))\n",
    "\n",
    "print(xbinh(y))\n",
    "print(xnhan2(y))\n",
    "#đầu ra giống đầu vào"
   ]
  },
  {
   "cell_type": "code",
   "execution_count": 6,
   "metadata": {},
   "outputs": [
    {
     "name": "stdout",
     "output_type": "stream",
     "text": [
      "9.0\n",
      "9\n",
      "9.0\n",
      "9.0\n"
     ]
    }
   ],
   "source": [
    "#13\n",
    "def xbinh(x): return x**2.0\n",
    "def xbinh2(x): return x*x\n",
    "\n",
    "x=3 ; y=3.0\n",
    "print(xbinh(x))\n",
    "print(xbinh2(x)) #nguyên -> nguyên\n",
    "\n",
    "print(xbinh(y))\n",
    "print(xbinh2(y))"
   ]
  },
  {
   "cell_type": "code",
   "execution_count": 7,
   "metadata": {},
   "outputs": [
    {
     "name": "stdout",
     "output_type": "stream",
     "text": [
      "2\n"
     ]
    }
   ],
   "source": [
    "#14\n",
    "print(-4%6)"
   ]
  },
  {
   "cell_type": "code",
   "execution_count": 8,
   "metadata": {},
   "outputs": [
    {
     "name": "stdout",
     "output_type": "stream",
     "text": [
      "4096\n",
      "94916642\n"
     ]
    }
   ],
   "source": [
    "\n",
    "#15\n",
    "print((2**3)**4)\n",
    "print(2*83**4)"
   ]
  },
  {
   "cell_type": "code",
   "execution_count": 9,
   "metadata": {},
   "outputs": [
    {
     "name": "stdout",
     "output_type": "stream",
     "text": [
      "True\n",
      "True\n",
      "True\n"
     ]
    }
   ],
   "source": [
    "#16\n",
    "def f(x,y): return y*(x//y)+(x%y)\n",
    "\n",
    "a=9.0 ; b=2.0 ; print(f(a,b)==a)\n",
    "a=9   ; b=2   ; print(f(a,b)==a)\n",
    "a=-9.0; b=2   ; print(f(a,b)==a)"
   ]
  },
  {
   "cell_type": "code",
   "execution_count": 10,
   "metadata": {},
   "outputs": [
    {
     "name": "stdout",
     "output_type": "stream",
     "text": [
      "5.0\n",
      "5\n"
     ]
    }
   ],
   "source": [
    "#17\n",
    "a=10 ; b=2\n",
    "print(a/b)\n",
    "print(a//b)"
   ]
  },
  {
   "cell_type": "code",
   "execution_count": 11,
   "metadata": {},
   "outputs": [
    {
     "name": "stdout",
     "output_type": "stream",
     "text": [
      "61\n",
      "1\n"
     ]
    }
   ],
   "source": [
    "#18\n",
    "def f_min(ss) : return ss//60\n",
    "def f_hour(ss): return ss//60//60\n",
    "\n",
    "ss = 3700\n",
    "print(f_min (ss))\n",
    "print(f_hour(ss))"
   ]
  },
  {
   "cell_type": "code",
   "execution_count": 12,
   "metadata": {},
   "outputs": [
    {
     "name": "stdout",
     "output_type": "stream",
     "text": [
      "a = 7, b = 5\n"
     ]
    }
   ],
   "source": [
    "#19\n",
    "a=5\n",
    "b=7\n",
    "a,b=b,a\n",
    "print('a = ' + str(a) + ', b = ' + str(b))"
   ]
  },
  {
   "cell_type": "code",
   "execution_count": 13,
   "metadata": {},
   "outputs": [
    {
     "data": {
      "text/plain": [
       "1.5707963267948966"
      ]
     },
     "execution_count": 13,
     "metadata": {},
     "output_type": "execute_result"
    }
   ],
   "source": [
    "#20\n",
    "import math\n",
    "def f_radian(angel): return angel*math.pi/180 #3.14 or math.pi\n",
    "\n",
    "x=90\n",
    "f_radian(x)"
   ]
  },
  {
   "cell_type": "code",
   "execution_count": 14,
   "metadata": {},
   "outputs": [
    {
     "name": "stdout",
     "output_type": "stream",
     "text": [
      "5\n",
      "4\n"
     ]
    }
   ],
   "source": [
    "#21\n",
    "x=2\n",
    "y=5\n",
    "x+=1\n",
    "x,y=y,x\n",
    "y+=1\n",
    "print(x, y, sep='\\n')"
   ]
  },
  {
   "cell_type": "code",
   "execution_count": 15,
   "metadata": {},
   "outputs": [
    {
     "name": "stdout",
     "output_type": "stream",
     "text": [
      "302\n",
      "29\n"
     ]
    }
   ],
   "source": [
    "#22\n",
    "def c2k(c): return c+273\n",
    "def k2c(k): return k-273\n",
    "\n",
    "c=29 ; k=302\n",
    "print(c2k(c))\n",
    "print(k2c(k))"
   ]
  },
  {
   "cell_type": "code",
   "execution_count": 16,
   "metadata": {},
   "outputs": [
    {
     "name": "stdout",
     "output_type": "stream",
     "text": [
      "55\n"
     ]
    }
   ],
   "source": [
    "#23\n",
    "def f(x):\n",
    "    if x == 0: return 0\n",
    "    else     : return (x+f(x-1))\n",
    "print(f(10))          "
   ]
  },
  {
   "cell_type": "code",
   "execution_count": 17,
   "metadata": {},
   "outputs": [
    {
     "name": "stdout",
     "output_type": "stream",
     "text": [
      "1 ngày, 2 giờ, 3 phút, 4giây\n",
      "93784 giay\n",
      "1563 phut\n",
      "26 gio\n"
     ]
    }
   ],
   "source": [
    "#25\n",
    "#day, hour, minute, second\n",
    "d, h, m, s = 1, 2, 3, 4\n",
    "xstring = str(d) + ' ngày, ' + str(h) + ' giờ, ' + str(m) + ' phút, ' + str(s) + 'giây'\n",
    "print(xstring)\n",
    "x = xstring.split(sep=', ')\n",
    "\n",
    "giay = int(x[3][0]) + \\\n",
    "       int(x[2][0]) * 60 + \\\n",
    "       int(x[1][0]) * 60 * 60 + \\\n",
    "       int(x[0][0]) * 60 * 60 * 24\n",
    "phut = giay // 60\n",
    "gio  = giay // 60 // 60\n",
    "print(str(giay) + ' giay')\n",
    "print(str(phut) + ' phut')\n",
    "print(str(gio)  + ' gio')"
   ]
  }
 ],
 "metadata": {
  "kernelspec": {
   "display_name": "Python 3.9.6 64-bit",
   "language": "python",
   "name": "python3"
  },
  "language_info": {
   "codemirror_mode": {
    "name": "ipython",
    "version": 3
   },
   "file_extension": ".py",
   "mimetype": "text/x-python",
   "name": "python",
   "nbconvert_exporter": "python",
   "pygments_lexer": "ipython3",
   "version": "3.9.6"
  },
  "orig_nbformat": 4,
  "vscode": {
   "interpreter": {
    "hash": "bbc25e548b8fdb4739872b66bb4c170fba8f94c647bc6fede3672cd60c9fe150"
   }
  }
 },
 "nbformat": 4,
 "nbformat_minor": 2
}

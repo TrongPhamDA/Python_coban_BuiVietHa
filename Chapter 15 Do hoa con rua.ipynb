{
 "cells": [
  {
   "cell_type": "code",
   "execution_count": 4,
   "metadata": {},
   "outputs": [],
   "source": [
    "#1\n",
    "# Vẽ hình vuông\n",
    "from turtle import *\n",
    "shape('turtle')\n",
    "for i in range(4):\n",
    "    forward(100)\n",
    "    left(90)\n",
    "done()"
   ]
  }
 ],
 "metadata": {
  "kernelspec": {
   "display_name": "Python 3.9.13 64-bit (microsoft store)",
   "language": "python",
   "name": "python3"
  },
  "language_info": {
   "codemirror_mode": {
    "name": "ipython",
    "version": 3
   },
   "file_extension": ".py",
   "mimetype": "text/x-python",
   "name": "python",
   "nbconvert_exporter": "python",
   "pygments_lexer": "ipython3",
   "version": "3.9.13"
  },
  "orig_nbformat": 4,
  "vscode": {
   "interpreter": {
    "hash": "c86af3e382231caa9121c41bb1f5393b608567a141278ab61abb8f6cb9516cb1"
   }
  }
 },
 "nbformat": 4,
 "nbformat_minor": 2
}

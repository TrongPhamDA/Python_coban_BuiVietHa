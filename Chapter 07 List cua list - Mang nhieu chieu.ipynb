{
 "cells": [
  {
   "cell_type": "markdown",
   "metadata": {},
   "source": [
    "## CHƯƠNG 7 LIST CỦA LIST - MẢNG NHIỀU CHIỀU"
   ]
  },
  {
   "cell_type": "code",
   "execution_count": 2,
   "metadata": {},
   "outputs": [
    {
     "name": "stdout",
     "output_type": "stream",
     "text": [
      "[1, 2, 3, 1]\n"
     ]
    }
   ],
   "source": [
    "#1\n",
    "Xlist = [1, [1, 2], [1, 2, 3], [1, 2, 3, 4]]\n",
    "print(Xlist[2] + [1])"
   ]
  },
  {
   "cell_type": "code",
   "execution_count": 5,
   "metadata": {},
   "outputs": [
    {
     "name": "stdout",
     "output_type": "stream",
     "text": [
      "20\n"
     ]
    }
   ],
   "source": [
    "#2\n",
    "X   = [[1], [1, 2], [1, 2, 3], [1, 2, 3, 4]]\n",
    "sum = 0\n",
    "for i in range(len(X)):\n",
    "    for j in range(len(X[i])):\n",
    "        sum += X[i][j]\n",
    "print(sum)"
   ]
  },
  {
   "cell_type": "code",
   "execution_count": 6,
   "metadata": {},
   "outputs": [
    {
     "name": "stdout",
     "output_type": "stream",
     "text": [
      "000012024036"
     ]
    }
   ],
   "source": [
    "#3\n",
    "for i in range(4):\n",
    "    for j in range(3):\n",
    "        print(i*j, end='')"
   ]
  },
  {
   "cell_type": "code",
   "execution_count": 8,
   "metadata": {},
   "outputs": [
    {
     "name": "stdout",
     "output_type": "stream",
     "text": [
      "[1, 2] [1]\n"
     ]
    }
   ],
   "source": [
    "#4\n",
    "x=[1]\n",
    "y=x\n",
    "x=x+[2]\n",
    "print(x, y)"
   ]
  },
  {
   "cell_type": "code",
   "execution_count": 9,
   "metadata": {},
   "outputs": [
    {
     "name": "stdout",
     "output_type": "stream",
     "text": [
      "[15] [15]\n"
     ]
    }
   ],
   "source": [
    "#5\n",
    "x=[1]\n",
    "y=x\n",
    "x[0]=15\n",
    "print(x, y)"
   ]
  },
  {
   "cell_type": "code",
   "execution_count": 11,
   "metadata": {},
   "outputs": [
    {
     "name": "stdout",
     "output_type": "stream",
     "text": [
      "lbac\n"
     ]
    }
   ],
   "source": [
    "#6\n",
    "s = 'cable'\n",
    "print(s[3:-6:-1])"
   ]
  },
  {
   "cell_type": "code",
   "execution_count": 15,
   "metadata": {},
   "outputs": [
    {
     "name": "stdout",
     "output_type": "stream",
     "text": [
      "[0, 1, 2, 0, 1, 2, 3]\n",
      "[0, 1, 2, 0, 1, 2, 3]\n"
     ]
    }
   ],
   "source": [
    "#7\n",
    "B = C = []\n",
    "for i in range(3):\n",
    "    B.append(i)\n",
    "for i in range(4):\n",
    "    C.append(i)\n",
    "print(B, C, sep='\\n') "
   ]
  },
  {
   "cell_type": "code",
   "execution_count": 19,
   "metadata": {},
   "outputs": [
    {
     "name": "stdout",
     "output_type": "stream",
     "text": [
      "Matrix [[1, 0, 5], [13, -1, 0], [2, 16, -18], [10, 9, -1]]:\n",
      "       4 rows\n",
      "       3 columns\n"
     ]
    }
   ],
   "source": [
    "#8 Cho List chứa ma trận A = m dòng x n cột\n",
    "# tính số m dòng = len(A)\n",
    "# tính số n cột  = len(A[0])\n",
    "def get_Matrix_size(list):\n",
    "    matrix = list.copy()\n",
    "    return len(matrix), len(matrix[0]) #m rows, n columns\n",
    "\n",
    "A = [[1, 0, 5], [13, -1, 0], [2, 16, -18], [10, 9, -1]]\n",
    "m, n = get_Matrix_size(A)\n",
    "print(f'Matrix {A}:\\n{m:8} rows\\n{n:8} columns')"
   ]
  },
  {
   "cell_type": "code",
   "execution_count": 21,
   "metadata": {},
   "outputs": [
    {
     "name": "stdout",
     "output_type": "stream",
     "text": [
      "[6, 12, 0, 18]\n",
      "[26, 24, -14]\n"
     ]
    }
   ],
   "source": [
    "#9\n",
    "A = [[1, 0, 5], [13, -1, 0], [2, 16, -18], [10, 9, -1]]\n",
    "B = []\n",
    "C = []\n",
    "for item in A:\n",
    "    sum = 0\n",
    "    for i in item:\n",
    "        sum += i\n",
    "    B.append(sum)\n",
    "for i in range(len(A[0])):\n",
    "    sum = 0\n",
    "    for item in A:\n",
    "        sum += item[i]\n",
    "    C.append(sum)\n",
    "print(B) #row    sum\n",
    "print(C) #column sum"
   ]
  },
  {
   "cell_type": "code",
   "execution_count": 80,
   "metadata": {},
   "outputs": [
    {
     "name": "stdout",
     "output_type": "stream",
     "text": [
      "   1   0   5\n",
      "  13  -1   0\n",
      "   2  16 -18\n",
      "  10   9  -1\n",
      "\n",
      "  13  -1   0\n",
      "   1   0   5\n",
      "   2  16 -18\n",
      "  10   9  -1\n",
      "\n"
     ]
    }
   ],
   "source": [
    "#10\n",
    "def matrix_print(list):\n",
    "    print('\\n'.join([''.join(['{:4}'.format(item) for item in row]) for row in list]))\n",
    "    print()\n",
    "    \n",
    "def changeRows(list, line1, line2):\n",
    "    temp = list[line1].copy()\n",
    "    list[line1] = list[line2].copy()\n",
    "    list[line2] = temp\n",
    "A = [[1, 0, 5], [13, -1, 0], [2, 16, -18], [10, 9, -1]]\n",
    "matrix_print(A)\n",
    "changeRows(A, 0, 1)\n",
    "matrix_print(A)"
   ]
  },
  {
   "cell_type": "code",
   "execution_count": 81,
   "metadata": {},
   "outputs": [
    {
     "name": "stdout",
     "output_type": "stream",
     "text": [
      "   1   0   5\n",
      "  13  -1   0\n",
      "   2  16 -18\n",
      "  10   9  -1\n",
      "\n",
      "   0   1   5\n",
      "  -1  13   0\n",
      "  16   2 -18\n",
      "   9  10  -1\n",
      "\n"
     ]
    }
   ],
   "source": [
    "#11\n",
    "def changeColumns(list, column1, column2):\n",
    "    for item in list:\n",
    "        item[column1], item[column2] = item[column2], item[column1]\n",
    "A = [[1, 0, 5], [13, -1, 0], [2, 16, -18], [10, 9, -1]]\n",
    "matrix_print(A)\n",
    "changeColumns(A, 0, 1)\n",
    "matrix_print(A)"
   ]
  },
  {
   "cell_type": "code",
   "execution_count": 88,
   "metadata": {},
   "outputs": [
    {
     "name": "stdout",
     "output_type": "stream",
     "text": [
      " -16 -13 -19 -11  12\n",
      "   4 -18   9  -7   8\n",
      " -13   9  15 -13  16\n",
      "\n",
      "  13  -1 -15   5   4\n",
      "  -2  -2  16 -16  10\n",
      "  -9 -18   9  -8  10\n",
      "\n",
      "  -3 -14 -34  -6  16\n",
      "   2 -20  25 -23  18\n",
      " -22  -9  24 -21  26\n",
      "\n"
     ]
    }
   ],
   "source": [
    "#12\n",
    "def random_matrix(rows=2, columns=3, start=0, end=10):\n",
    "    import random\n",
    "    return [[random.randint(start, end) for item in range(columns)] for row in range(rows)]\n",
    "\n",
    "def matrix_sum(list1, list2):\n",
    "    rows = len(list1)\n",
    "    columns = len(list1[0])\n",
    "    list3 = [[list1[row][column] + list2[row][column]  for column in range(columns)] for row in range(rows)]\n",
    "    return list3\n",
    "\n",
    "rows, columns = 3, 5\n",
    "A = random_matrix(rows, columns, -20, 20)\n",
    "B = random_matrix(rows, columns, -20, 20)\n",
    "C = matrix_sum(A, B)\n",
    "matrix_print(A)\n",
    "matrix_print(B)\n",
    "matrix_print(C)"
   ]
  },
  {
   "cell_type": "code",
   "execution_count": 89,
   "metadata": {},
   "outputs": [
    {
     "name": "stdout",
     "output_type": "stream",
     "text": [
      "   8  -4 -20   7  17   8  -8  18 -16 -12\n",
      " -18  -6  -4 -14 -10   5  -9   9   1 -12\n",
      "   6   4  -7  15   1  -4 -19  -7   0 -10\n",
      "\n",
      "  16   5  -8  -1 -18  15   1  12 -15  17\n",
      "  -5   8  -7 -11  -3  -7 -11   9  20   7\n",
      "   4   7   0   6   1  -3  19  12   4 -12\n",
      "\n",
      "  -8  -9 -12   8  35  -7  -9   6  -1 -29\n",
      " -13 -14   3  -3  -7  12   2   0 -19 -19\n",
      "   2  -3  -7   9   0  -1 -38 -19  -4   2\n",
      "\n"
     ]
    }
   ],
   "source": [
    "#13\n",
    "def matrix_diff(list1, list2):\n",
    "    rows = len(list1)\n",
    "    columns = len(list1[0])\n",
    "    list3 = [[list1[row][column] - list2[row][column]  for column in range(columns)] for row in range(rows)]\n",
    "    return list3\n",
    "\n",
    "rows, columns = 3, 10\n",
    "A = random_matrix(rows, columns, -20, 20)\n",
    "B = random_matrix(rows, columns, -20, 20)\n",
    "C = matrix_diff(A, B)\n",
    "matrix_print(A)\n",
    "matrix_print(B)\n",
    "matrix_print(C)"
   ]
  },
  {
   "cell_type": "code",
   "execution_count": 91,
   "metadata": {},
   "outputs": [
    {
     "name": "stdout",
     "output_type": "stream",
     "text": [
      " -17   9   0  -9  16  14  20  18  -5  16\n",
      "  -2  -1   6 -11   1  14  -7  -5 -20 -10\n",
      "   2   3  12  13  17  -8 -20 -18 -15  -9\n",
      "\n",
      " -34  18   0 -18  32  28  40  36 -10  32\n",
      "  -4  -2  12 -22   2  28 -14 -10 -40 -20\n",
      "   4   6  24  26  34 -16 -40 -36 -30 -18\n",
      "\n"
     ]
    }
   ],
   "source": [
    "#14 scale\n",
    "def matrix_scalar(list, k):\n",
    "    rows = len(list)\n",
    "    columns = len(list[0])\n",
    "    list3 = [[list[row][column] * k  for column in range(columns)] for row in range(rows)]\n",
    "    return list3\n",
    "\n",
    "rows, columns, k = 3, 10, 2\n",
    "A = random_matrix(rows, columns, -20, 20)\n",
    "B = matrix_scalar(A, k)\n",
    "matrix_print(A)\n",
    "matrix_print(B)"
   ]
  }
 ],
 "metadata": {
  "kernelspec": {
   "display_name": "Python 3.9.6 64-bit",
   "language": "python",
   "name": "python3"
  },
  "language_info": {
   "codemirror_mode": {
    "name": "ipython",
    "version": 3
   },
   "file_extension": ".py",
   "mimetype": "text/x-python",
   "name": "python",
   "nbconvert_exporter": "python",
   "pygments_lexer": "ipython3",
   "version": "3.9.6"
  },
  "orig_nbformat": 4,
  "vscode": {
   "interpreter": {
    "hash": "bbc25e548b8fdb4739872b66bb4c170fba8f94c647bc6fede3672cd60c9fe150"
   }
  }
 },
 "nbformat": 4,
 "nbformat_minor": 2
}

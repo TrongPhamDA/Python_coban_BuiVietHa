{
 "cells": [
  {
   "cell_type": "markdown",
   "metadata": {},
   "source": [
    "## CHƯƠNG 7 LIST CỦA LIST - MẢNG NHIỀU CHIỀU"
   ]
  },
  {
   "cell_type": "code",
   "execution_count": 2,
   "metadata": {},
   "outputs": [
    {
     "name": "stdout",
     "output_type": "stream",
     "text": [
      "[1, 2, 3, 1]\n"
     ]
    }
   ],
   "source": [
    "#1\n",
    "Xlist = [1, [1, 2], [1, 2, 3], [1, 2, 3, 4]]\n",
    "print(Xlist[2] + [1])"
   ]
  },
  {
   "cell_type": "code",
   "execution_count": 5,
   "metadata": {},
   "outputs": [
    {
     "name": "stdout",
     "output_type": "stream",
     "text": [
      "20\n"
     ]
    }
   ],
   "source": [
    "#2\n",
    "X   = [[1], [1, 2], [1, 2, 3], [1, 2, 3, 4]]\n",
    "sum = 0\n",
    "for i in range(len(X)):\n",
    "    for j in range(len(X[i])):\n",
    "        sum += X[i][j]\n",
    "print(sum)"
   ]
  },
  {
   "cell_type": "code",
   "execution_count": 6,
   "metadata": {},
   "outputs": [
    {
     "name": "stdout",
     "output_type": "stream",
     "text": [
      "000012024036"
     ]
    }
   ],
   "source": [
    "#3\n",
    "for i in range(4):\n",
    "    for j in range(3):\n",
    "        print(i*j, end='')"
   ]
  },
  {
   "cell_type": "code",
   "execution_count": 8,
   "metadata": {},
   "outputs": [
    {
     "name": "stdout",
     "output_type": "stream",
     "text": [
      "[1, 2] [1]\n"
     ]
    }
   ],
   "source": [
    "#4\n",
    "x=[1]\n",
    "y=x\n",
    "x=x+[2]\n",
    "print(x, y)"
   ]
  },
  {
   "cell_type": "code",
   "execution_count": 9,
   "metadata": {},
   "outputs": [
    {
     "name": "stdout",
     "output_type": "stream",
     "text": [
      "[15] [15]\n"
     ]
    }
   ],
   "source": [
    "#5\n",
    "x=[1]\n",
    "y=x\n",
    "x[0]=15\n",
    "print(x, y)"
   ]
  },
  {
   "cell_type": "code",
   "execution_count": 11,
   "metadata": {},
   "outputs": [
    {
     "name": "stdout",
     "output_type": "stream",
     "text": [
      "lbac\n"
     ]
    }
   ],
   "source": [
    "#6\n",
    "s = 'cable'\n",
    "print(s[3:-6:-1])"
   ]
  },
  {
   "cell_type": "code",
   "execution_count": 15,
   "metadata": {},
   "outputs": [
    {
     "name": "stdout",
     "output_type": "stream",
     "text": [
      "[0, 1, 2, 0, 1, 2, 3]\n",
      "[0, 1, 2, 0, 1, 2, 3]\n"
     ]
    }
   ],
   "source": [
    "#7\n",
    "B = C = []\n",
    "for i in range(3):\n",
    "    B.append(i)\n",
    "for i in range(4):\n",
    "    C.append(i)\n",
    "print(B, C, sep='\\n') "
   ]
  },
  {
   "cell_type": "code",
   "execution_count": 19,
   "metadata": {},
   "outputs": [
    {
     "name": "stdout",
     "output_type": "stream",
     "text": [
      "Matrix [[1, 0, 5], [13, -1, 0], [2, 16, -18], [10, 9, -1]]:\n",
      "       4 rows\n",
      "       3 columns\n"
     ]
    }
   ],
   "source": [
    "#8 Cho List chứa ma trận A = m dòng x n cột\n",
    "# tính số m dòng = len(A)\n",
    "# tính số n cột  = len(A[0])\n",
    "def get_Matrix_size(list):\n",
    "    matrix = list.copy()\n",
    "    return len(matrix), len(matrix[0]) #m rows, n columns\n",
    "\n",
    "A = [[1, 0, 5], [13, -1, 0], [2, 16, -18], [10, 9, -1]]\n",
    "m, n = get_Matrix_size(A)\n",
    "print(f'Matrix {A}:\\n{m:8} rows\\n{n:8} columns')"
   ]
  },
  {
   "cell_type": "code",
   "execution_count": 21,
   "metadata": {},
   "outputs": [
    {
     "name": "stdout",
     "output_type": "stream",
     "text": [
      "[6, 12, 0, 18]\n",
      "[26, 24, -14]\n"
     ]
    }
   ],
   "source": [
    "#9\n",
    "A = [[1, 0, 5], [13, -1, 0], [2, 16, -18], [10, 9, -1]]\n",
    "B = []\n",
    "C = []\n",
    "for item in A:\n",
    "    sum = 0\n",
    "    for i in item:\n",
    "        sum += i\n",
    "    B.append(sum)\n",
    "for i in range(len(A[0])):\n",
    "    sum = 0\n",
    "    for item in A:\n",
    "        sum += item[i]\n",
    "    C.append(sum)\n",
    "print(B) #row    sum\n",
    "print(C) #column sum"
   ]
  },
  {
   "cell_type": "code",
   "execution_count": 4,
   "metadata": {},
   "outputs": [
    {
     "name": "stdout",
     "output_type": "stream",
     "text": [
      "   1   0   5\n",
      "  13  -1   0\n",
      "   2  16 -18\n",
      "  10   9  -1\n",
      "\n",
      "  13  -1   0\n",
      "   1   0   5\n",
      "   2  16 -18\n",
      "  10   9  -1\n",
      "\n"
     ]
    }
   ],
   "source": [
    "#10\n",
    "def matrix_print(list):\n",
    "    print('\\n'.join([''.join(['{:4}'.format(item) for item in row]) for row in list]))\n",
    "    print()\n",
    "    \n",
    "def changeRows(list, line1, line2):\n",
    "    temp = list[line1].copy()\n",
    "    list[line1] = list[line2].copy()\n",
    "    list[line2] = temp\n",
    "A = [[1, 0, 5], [13, -1, 0], [2, 16, -18], [10, 9, -1]]\n",
    "matrix_print(A)\n",
    "changeRows(A, 0, 1)\n",
    "matrix_print(A)"
   ]
  },
  {
   "cell_type": "code",
   "execution_count": 5,
   "metadata": {},
   "outputs": [
    {
     "name": "stdout",
     "output_type": "stream",
     "text": [
      "   1   0   5\n",
      "  13  -1   0\n",
      "   2  16 -18\n",
      "  10   9  -1\n",
      "\n",
      "   0   1   5\n",
      "  -1  13   0\n",
      "  16   2 -18\n",
      "   9  10  -1\n",
      "\n"
     ]
    }
   ],
   "source": [
    "#11\n",
    "def changeColumns(list, column1, column2):\n",
    "    for item in list:\n",
    "        item[column1], item[column2] = item[column2], item[column1]\n",
    "A = [[1, 0, 5], [13, -1, 0], [2, 16, -18], [10, 9, -1]]\n",
    "matrix_print(A)\n",
    "changeColumns(A, 0, 1)\n",
    "matrix_print(A)"
   ]
  },
  {
   "cell_type": "code",
   "execution_count": 6,
   "metadata": {},
   "outputs": [
    {
     "name": "stdout",
     "output_type": "stream",
     "text": [
      "  -4 -12  20 -19  -5\n",
      "  13  10  -7   6  13\n",
      " -17  -5 -11   7  20\n",
      "\n",
      "  -4  13  19 -12 -11\n",
      "   8  -2   7 -15  -6\n",
      " -20   5 -17   2   1\n",
      "\n",
      "  -8   1  39 -31 -16\n",
      "  21   8   0  -9   7\n",
      " -37   0 -28   9  21\n",
      "\n"
     ]
    }
   ],
   "source": [
    "#12\n",
    "def random_matrix(rows=2, columns=3, start=0, end=10):\n",
    "    import random\n",
    "    return [[random.randint(start, end) for item in range(columns)] for row in range(rows)]\n",
    "\n",
    "def matrix_sum(list1, list2):\n",
    "    rows = len(list1)\n",
    "    columns = len(list1[0])\n",
    "    list3 = [[list1[row][column] + list2[row][column]  for column in range(columns)] for row in range(rows)]\n",
    "    return list3\n",
    "\n",
    "rows, columns = 3, 5\n",
    "A = random_matrix(rows, columns, -20, 20)\n",
    "B = random_matrix(rows, columns, -20, 20)\n",
    "C = matrix_sum(A, B)\n",
    "matrix_print(A)\n",
    "matrix_print(B)\n",
    "matrix_print(C)"
   ]
  },
  {
   "cell_type": "code",
   "execution_count": 7,
   "metadata": {},
   "outputs": [
    {
     "name": "stdout",
     "output_type": "stream",
     "text": [
      "   4   8  19   1 -13  17   2  -5   4  13\n",
      "  -3   1  14 -18  -4  16 -14  -4  -8 -11\n",
      "  17  -8   8   7   8   5  20 -15 -10  13\n",
      "\n",
      "  14 -14  -6  12  16   7   1   9   5  20\n",
      " -14  11   6 -13 -14  12 -17   7 -15 -12\n",
      "  15   0  -7  -7 -18  20  19  -1   8   1\n",
      "\n",
      " -10  22  25 -11 -29  10   1 -14  -1  -7\n",
      "  11 -10   8  -5  10   4   3 -11   7   1\n",
      "   2  -8  15  14  26 -15   1 -14 -18  12\n",
      "\n"
     ]
    }
   ],
   "source": [
    "#13\n",
    "def matrix_diff(list1, list2):\n",
    "    rows = len(list1)\n",
    "    columns = len(list1[0])\n",
    "    list3 = [[list1[row][column] - list2[row][column]  for column in range(columns)] for row in range(rows)]\n",
    "    return list3\n",
    "\n",
    "rows, columns = 3, 10\n",
    "A = random_matrix(rows, columns, -20, 20)\n",
    "B = random_matrix(rows, columns, -20, 20)\n",
    "C = matrix_diff(A, B)\n",
    "matrix_print(A)\n",
    "matrix_print(B)\n",
    "matrix_print(C)"
   ]
  },
  {
   "cell_type": "code",
   "execution_count": 8,
   "metadata": {},
   "outputs": [
    {
     "name": "stdout",
     "output_type": "stream",
     "text": [
      " -17   7   6  -6   4   4  -1   0   5 -19\n",
      "  20 -15 -16   1   2   9 -19  -2 -13  -7\n",
      "  16  13   9  10 -11  19  -3  -4  -9 -17\n",
      "\n",
      " -34  14  12 -12   8   8  -2   0  10 -38\n",
      "  40 -30 -32   2   4  18 -38  -4 -26 -14\n",
      "  32  26  18  20 -22  38  -6  -8 -18 -34\n",
      "\n"
     ]
    }
   ],
   "source": [
    "#14 scale\n",
    "def matrix_scalar(list, k):\n",
    "    rows = len(list)\n",
    "    columns = len(list[0])\n",
    "    list3 = [[list[row][column] * k  for column in range(columns)] for row in range(rows)]\n",
    "    return list3\n",
    "\n",
    "rows, columns, k = 3, 10, 2\n",
    "A = random_matrix(rows, columns, -20, 20)\n",
    "B = matrix_scalar(A, k)\n",
    "matrix_print(A)\n",
    "matrix_print(B)"
   ]
  },
  {
   "cell_type": "code",
   "execution_count": 22,
   "metadata": {},
   "outputs": [
    {
     "name": "stdout",
     "output_type": "stream",
     "text": [
      "   8   1   7\n",
      "   5   6   3\n",
      "\n",
      "   3   4   5   7\n",
      "   9   3   3   5\n",
      "   9   9   2   3\n",
      "\n",
      "  96  98  57  82\n",
      "  96  65  49  74\n",
      "\n"
     ]
    }
   ],
   "source": [
    "#15 Nhân matrix m x n với matrix n x p\n",
    "def matrix_multiply(list1, list2):\n",
    "    matrix_1 = list1.copy()\n",
    "    matrix_2 = list2.copy()\n",
    "    def matrix_blank(rows, columns):\n",
    "        output = []\n",
    "        for i in range(rows):\n",
    "            item = [0] * columns\n",
    "            output.append(item)\n",
    "        return output\n",
    "    if len(matrix_1[0]) != len(matrix_2):\n",
    "        return f'error'\n",
    "    else:\n",
    "        rows_1           = len(matrix_1)\n",
    "        columns_1_rows_2 = len(matrix_1[0])\n",
    "        columns_2        = len(matrix_2[0])\n",
    "        output = matrix_blank(rows_1, columns_2)\n",
    "        for i in range(rows_1):\n",
    "            for j in range(columns_2):\n",
    "                for k in range(columns_1_rows_2):\n",
    "                    output[i][j] += matrix_1[i][k] * matrix_2[k][j]\n",
    "        return output\n",
    "m, n, p = 2, 3, 4\n",
    "A = random_matrix(m, n, 0, 9)\n",
    "B = random_matrix(n, p, 0, 9)\n",
    "C = matrix_multiply(A, B)\n",
    "matrix_print(A)\n",
    "matrix_print(B)\n",
    "matrix_print(C)"
   ]
  },
  {
   "cell_type": "code",
   "execution_count": 58,
   "metadata": {},
   "outputs": [
    {
     "name": "stdout",
     "output_type": "stream",
     "text": [
      "Dãy số A: [90, 75, 60, 45, 30, 15]\n",
      "A là dãy số giảm\n"
     ]
    }
   ],
   "source": [
    "#17 Dãy số đơn điệu tăng / giảm\n",
    "def asc_check(list):\n",
    "    output = list.copy()\n",
    "    output.sort()\n",
    "    return output == list\n",
    "\n",
    "def desc_check(list):\n",
    "    for i in range(len(list)-1):\n",
    "        if list[i] < list[i+1]: return False\n",
    "    return True\n",
    "\n",
    "#A = [x for x in range(1, 13)] + [98, 99] #asc\n",
    "A = [x for x in range(90, 0, -15)]         #desc\n",
    "print(f'Dãy số A: {A}')\n",
    "if   asc_check(A) : print(f'A là dãy số tăng')\n",
    "elif desc_check(A): print(f'A là dãy số giảm')\n",
    "else              : print(f'A là dãy số thông thường')\n"
   ]
  },
  {
   "cell_type": "code",
   "execution_count": 65,
   "metadata": {},
   "outputs": [
    {
     "name": "stdout",
     "output_type": "stream",
     "text": [
      "Dãy số A:\n",
      "[3, 1, 2, 4, -1, 8, 7, 10, 11, 7, 8, 9, 0, 16, 40, 50, -100]\n",
      "\n",
      "Dãy số đơn điệu tăng có độ dài lớn nhất trong dãy A:\n",
      "[0, 16, 40, 50]\n"
     ]
    }
   ],
   "source": [
    "#18 tách dãy số đơn điệu tăng có độ dài nhất trong 1 dãy số cho trước\n",
    "def asc_list_max(list):\n",
    "    index_maxlist = 0\n",
    "    index_current = 0\n",
    "    len_maxlist   = 1\n",
    "    len_current   = 1\n",
    "    for index in range(len(list)-1):\n",
    "        if list[index] < list[index + 1]: len_current += 1\n",
    "        else:\n",
    "            if len_maxlist < len_current:\n",
    "                index_maxlist = index_current\n",
    "                len_maxlist   = len_current\n",
    "            index_current = index + 1\n",
    "            len_current   = 1\n",
    "    return list[index_maxlist : index_maxlist + len_maxlist]\n",
    "\n",
    "A = [3, 1, 2, 4, -1, 8, 7, 10, 11, 7, 8, 9, 0, 16, 40, 50, -100]\n",
    "print(f'Dãy số A:\\n{A}\\n')\n",
    "print(f'Dãy số đơn điệu tăng có độ dài lớn nhất trong dãy A:\\n{asc_list_max(A)}')"
   ]
  },
  {
   "cell_type": "code",
   "execution_count": 68,
   "metadata": {},
   "outputs": [
    {
     "name": "stdout",
     "output_type": "stream",
     "text": [
      "[0, 1, 1, 1, 0, 0, 0, 0, 1, 1, 0, 0, 1, 0, 1, 0, 0, 0, 1, 0]\n"
     ]
    }
   ],
   "source": [
    "#19 tìm vị trí và độ dài dãy số liên tiếp các giá trị '0' trong dãy số cho trước chỉ toàn '0' và '1'\n",
    "import random as r\n",
    "A = [r.randint(0, 1) for i in range(20)]\n",
    "print(A)\n",
    "\n",
    "\n",
    "def zero_list(list):\n",
    "    index_zerolist = 0\n",
    "    index_current = 0\n",
    "    len_zerolist   = 1\n",
    "    len_current   = 1\n",
    "    for index in range(len(list)-1):\n",
    "        if list[index] == 0 and list[index + 1] == 0: len_current += 1\n",
    "        else:\n",
    "            if list[index] == 0 and list[index + 1] == 1:\n",
    "                index_zerolist = index_current\n",
    "                len_zerolist   = len_current\n",
    "            index_current = index + 1\n",
    "            len_current   = 1\n",
    "    return list[index_zerolist : index_zerolist + len_zerolist]\n",
    "\n",
    "A = [3, 1, 2, 4, -1, 8, 7, 10, 11, 7, 8, 9, 0, 16, 40, 50, -100]\n"
   ]
  }
 ],
 "metadata": {
  "kernelspec": {
   "display_name": "Python 3.9.6 64-bit",
   "language": "python",
   "name": "python3"
  },
  "language_info": {
   "codemirror_mode": {
    "name": "ipython",
    "version": 3
   },
   "file_extension": ".py",
   "mimetype": "text/x-python",
   "name": "python",
   "nbconvert_exporter": "python",
   "pygments_lexer": "ipython3",
   "version": "3.9.6"
  },
  "orig_nbformat": 4,
  "vscode": {
   "interpreter": {
    "hash": "bbc25e548b8fdb4739872b66bb4c170fba8f94c647bc6fede3672cd60c9fe150"
   }
  }
 },
 "nbformat": 4,
 "nbformat_minor": 2
}

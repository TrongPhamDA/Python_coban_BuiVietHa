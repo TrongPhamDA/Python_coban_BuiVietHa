{
 "cells": [
  {
   "cell_type": "markdown",
   "metadata": {},
   "source": [
    "# CHAPTER 5 ĐỐI TƯỢNG"
   ]
  },
  {
   "cell_type": "code",
   "execution_count": 1,
   "metadata": {},
   "outputs": [
    {
     "ename": "TypeError",
     "evalue": "hocsinh() takes no arguments",
     "output_type": "error",
     "traceback": [
      "\u001b[1;31m---------------------------------------------------------------------------\u001b[0m",
      "\u001b[1;31mTypeError\u001b[0m                                 Traceback (most recent call last)",
      "\u001b[1;32m~\\AppData\\Local\\Temp/ipykernel_2356/544291401.py\u001b[0m in \u001b[0;36m<module>\u001b[1;34m\u001b[0m\n\u001b[0;32m      2\u001b[0m \u001b[1;32mclass\u001b[0m \u001b[0mhocsinh\u001b[0m\u001b[1;33m:\u001b[0m\u001b[1;33m\u001b[0m\u001b[1;33m\u001b[0m\u001b[0m\n\u001b[0;32m      3\u001b[0m     \u001b[0mten\u001b[0m \u001b[1;33m=\u001b[0m \u001b[1;34m'Hà'\u001b[0m\u001b[1;33m\u001b[0m\u001b[1;33m\u001b[0m\u001b[0m\n\u001b[1;32m----> 4\u001b[1;33m \u001b[0mh\u001b[0m \u001b[1;33m=\u001b[0m \u001b[0mhocsinh\u001b[0m\u001b[1;33m(\u001b[0m\u001b[1;34m'Bình'\u001b[0m\u001b[1;33m)\u001b[0m\u001b[1;33m\u001b[0m\u001b[1;33m\u001b[0m\u001b[0m\n\u001b[0m",
      "\u001b[1;31mTypeError\u001b[0m: hocsinh() takes no arguments"
     ]
    }
   ],
   "source": [
    "#1\n",
    "class hocsinh:\n",
    "    ten = 'Hà'\n",
    "h = hocsinh('Bình')"
   ]
  },
  {
   "cell_type": "code",
   "execution_count": 2,
   "metadata": {},
   "outputs": [],
   "source": [
    "#2\n",
    "class hocsinh:\n",
    "    ten = 'Hà'\n",
    "h = hocsinh()\n",
    "h.ten = 'Bình'"
   ]
  },
  {
   "cell_type": "code",
   "execution_count": 21,
   "metadata": {},
   "outputs": [
    {
     "name": "stdout",
     "output_type": "stream",
     "text": [
      "5\n",
      "4\n",
      "20\n",
      "18\n"
     ]
    }
   ],
   "source": [
    "#3 thiet lap class QuadrilSquare, tính Chu vi và Diện tích hình vuông, hình chữ nhật\n",
    "class quadrilsquare:\n",
    "    def __init__(self, width, height):\n",
    "        self.width = width\n",
    "        self.height = height\n",
    "    def dientich(self):\n",
    "        return self.width * self.height\n",
    "    def chuvi(self):\n",
    "        return 2 * (self.width + self.height)\n",
    "\n",
    "hcn1 = quadrilsquare(5, 4)\n",
    "print(hcn1.width)\n",
    "print(hcn1.height)\n",
    "print(hcn1.dientich())\n",
    "print(hcn1.chuvi())"
   ]
  },
  {
   "cell_type": "code",
   "execution_count": 26,
   "metadata": {},
   "outputs": [
    {
     "name": "stdout",
     "output_type": "stream",
     "text": [
      "Trong Pham\n",
      "cc RICCA\n",
      "182\n",
      "81\n",
      "8.5\n"
     ]
    }
   ],
   "source": [
    "#4 Class HocSinh\n",
    "class HocSinh:\n",
    "    def __init__(self, HoTen, DiaChi, ChieuCao, CanNang):\n",
    "        self.HoTen = HoTen\n",
    "        self.DiaChi = DiaChi\n",
    "        self.ChieuCao = ChieuCao\n",
    "        self.CanNang = CanNang\n",
    "    def update_DiaChi(self, DiaChi):\n",
    "        self.DiaChi = DiaChi\n",
    "    def update_ChieuCao_CanNang(self, ChieuCao, CanNang):\n",
    "        self.ChieuCao = ChieuCao\n",
    "        self.CanNang = CanNang\n",
    "    def update_HocLuc(self, HocLuc):\n",
    "        self.HocLuc = HocLuc\n",
    "\n",
    "hs1 = HocSinh('Trong Pham', 'Ricca', 182, 80)\n",
    "hs1.update_DiaChi('cc RICCA')\n",
    "hs1.update_ChieuCao_CanNang(182, 81)\n",
    "hs1.update_HocLuc(8.5)\n",
    "\n",
    "print(hs1.HoTen)\n",
    "print(hs1.DiaChi)\n",
    "print(hs1.ChieuCao)\n",
    "print(hs1.CanNang)\n",
    "print(hs1.HocLuc)"
   ]
  },
  {
   "cell_type": "code",
   "execution_count": 39,
   "metadata": {},
   "outputs": [
    {
     "name": "stdout",
     "output_type": "stream",
     "text": [
      "(4, 5, 9)\n",
      "False\n",
      "(4, 5, 3)\n",
      "True\n"
     ]
    }
   ],
   "source": [
    "#5 class Tam Giac\n",
    "class Triple:\n",
    "    def __init__(self, Ten, a, b, c):\n",
    "        self.Ten = Ten\n",
    "        self.a = a\n",
    "        self.b = b\n",
    "        self.c = c\n",
    "        #S la chu vi\n",
    "        self.S = self.a + self.b + self.c\n",
    "    def update_S(self):\n",
    "        self.S = self.a + self.b + self.c\n",
    "    def change(self, a, b, c):\n",
    "        self.a = a\n",
    "        self.b = b\n",
    "        self.c = c\n",
    "        self.S = self.a + self.b + self.c\n",
    "    def is_triange(self):\n",
    "        if (self.a + self.b > self.c) and (self.a + self.c > self.b) and (self.b + self.c > self.a): return True\n",
    "        else: return False\n",
    "\n",
    "tg1 = Triple('tamgiac_1', 4, 5, 9)\n",
    "print(f'({tg1.a}, {tg1.b}, {tg1.c})')\n",
    "print(tg1.is_triange())\n",
    "tg1.change(4, 5, 3)\n",
    "print(f'({tg1.a}, {tg1.b}, {tg1.c})')\n",
    "print(tg1.is_triange())"
   ]
  },
  {
   "cell_type": "code",
   "execution_count": 40,
   "metadata": {},
   "outputs": [
    {
     "name": "stdout",
     "output_type": "stream",
     "text": [
      "9.921567416492215\n",
      "3.023715784073818\n",
      "1.3228756555322954\n"
     ]
    }
   ],
   "source": [
    "#6 thiet lap class Tam_giac(Triple)\n",
    "class TamGiac(Triple):\n",
    "    def DienTich(self):\n",
    "        #p = Chu vi / 2\n",
    "        p = self.S / 2\n",
    "        return (p * (p - self.a) * (p - self.b) * (p - self.c)) ** (1/2)\n",
    "    def R_ngoaitiep(self):\n",
    "        #S la dien tich\n",
    "        S = self.DienTich()\n",
    "        return (self.a * self.b * self.c) / 4 / S\n",
    "    def R_noitiep(self)    :\n",
    "        #S la dien tich\n",
    "        S = self.DienTich()\n",
    "        #p = Chu vi / 2\n",
    "        p = self.S / 2\n",
    "        return S / p\n",
    "\n",
    "tg2 = TamGiac('tam giac 2', 4, 5, 6)\n",
    "print(tg2.DienTich())\n",
    "print(tg2.R_ngoaitiep())\n",
    "print(tg2.R_noitiep())"
   ]
  },
  {
   "cell_type": "code",
   "execution_count": 42,
   "metadata": {},
   "outputs": [
    {
     "name": "stdout",
     "output_type": "stream",
     "text": [
      "12\n",
      "4.898979485566356\n",
      "15\n",
      "10.825317547305483\n"
     ]
    }
   ],
   "source": [
    "#9\n",
    "#thiet lap class Tam_Giac() co phuong thuc ChuVi, DienTich\n",
    "class Tam_Giac:\n",
    "    def __init__(self, a, b, c):\n",
    "        self.a = a\n",
    "        self.b = b\n",
    "        self.c = c\n",
    "        if not is_Tam_Giac(): print(f'({self.a}, {self.b}, {self.c} không phải là 3 cạnh 1 tam giác')\n",
    "    def is_Tam_Giac(self):\n",
    "        if (self.a + self.b > self.c) and (self.a + self.c > self.b) and (self.b + self.c > self.a): return True\n",
    "        else: return False\n",
    "    def ChuVi(self):\n",
    "        return self.a + self.b + self.c\n",
    "    def DienTich(self):\n",
    "        p = self.ChuVi() / 2\n",
    "        return (p * (p - self.a) * (p - self.b) * (p - self.c)) ** (1/2)\n",
    "\n",
    "#thiet lap class Tam_Giac_Can(Tam_Giac)\n",
    "class Tam_Giac_Can(Tam_Giac):\n",
    "    def __init__(self, a, b, c):\n",
    "        self.a = a\n",
    "        self.b = b\n",
    "        self.c = c\n",
    "\n",
    "#thiet lap class Tam_Giac_Deu(Tam_Giac_Can)\n",
    "class  Tam_Giac_Deu(Tam_Giac_Can):\n",
    "    def __init__(self, a, b, c):\n",
    "        self.a = a\n",
    "        self.b = b\n",
    "        self.c = c\n",
    "\n",
    "tgd = Tam_Giac_Deu(5, 5, 2)\n",
    "print(tgd.ChuVi())\n",
    "print(tgd.DienTich())\n",
    "\n",
    "tgd = Tam_Giac_Can(5, 5, 5)\n",
    "print(tgd.ChuVi())\n",
    "print(tgd.DienTich())"
   ]
  },
  {
   "cell_type": "code",
   "execution_count": 44,
   "metadata": {},
   "outputs": [
    {
     "name": "stdout",
     "output_type": "stream",
     "text": [
      "I'm an X object\n"
     ]
    }
   ],
   "source": [
    "#10\n",
    "class X(object):\n",
    "    def id(self):\n",
    "        print(\"I'm an X object\")\n",
    "x=X()\n",
    "x.id()"
   ]
  },
  {
   "cell_type": "code",
   "execution_count": 45,
   "metadata": {},
   "outputs": [
    {
     "name": "stdout",
     "output_type": "stream",
     "text": [
      "31.41592653589793\n",
      "78.53981633974483\n",
      "78.53981633974483\n"
     ]
    }
   ],
   "source": [
    "#13 class Circle\n",
    "class Circle:\n",
    "    def __init__(self, r, x, y):\n",
    "        self.r = r\n",
    "        self.x = x\n",
    "        self.y = y\n",
    "    def ChuVi(self):\n",
    "        import math\n",
    "        return 2 * self.r * math.pi\n",
    "    def DienTich(self):\n",
    "        import math\n",
    "        return math.pi * self.r ** 2\n",
    "\n",
    "htron1 = Circle(5, 0, 0)\n",
    "print(htron1.ChuVi())\n",
    "print(htron1.DienTich())"
   ]
  }
 ],
 "metadata": {
  "kernelspec": {
   "display_name": "Python 3.9.6 64-bit",
   "language": "python",
   "name": "python3"
  },
  "language_info": {
   "codemirror_mode": {
    "name": "ipython",
    "version": 3
   },
   "file_extension": ".py",
   "mimetype": "text/x-python",
   "name": "python",
   "nbconvert_exporter": "python",
   "pygments_lexer": "ipython3",
   "version": "3.9.6"
  },
  "orig_nbformat": 4,
  "vscode": {
   "interpreter": {
    "hash": "bbc25e548b8fdb4739872b66bb4c170fba8f94c647bc6fede3672cd60c9fe150"
   }
  }
 },
 "nbformat": 4,
 "nbformat_minor": 2
}

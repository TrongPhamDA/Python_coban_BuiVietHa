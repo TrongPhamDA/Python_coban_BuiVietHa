{
 "cells": [
  {
   "cell_type": "code",
   "execution_count": 1,
   "metadata": {},
   "outputs": [
    {
     "name": "stdout",
     "output_type": "stream",
     "text": [
      "Hà Nội Việt Nam\n"
     ]
    }
   ],
   "source": [
    "# CÂU HỎI - BÀI TẬP\n",
    "#3\n",
    "print('Hà Nội', 'Việt Nam')"
   ]
  },
  {
   "cell_type": "code",
   "execution_count": 2,
   "metadata": {},
   "outputs": [
    {
     "name": "stdout",
     "output_type": "stream",
     "text": [
      "Hà Nội\n",
      "Việt Nam\n"
     ]
    }
   ],
   "source": [
    "#4\n",
    "print('Hà Nội'); print('Việt Nam')"
   ]
  },
  {
   "cell_type": "code",
   "execution_count": 3,
   "metadata": {},
   "outputs": [
    {
     "name": "stdout",
     "output_type": "stream",
     "text": [
      "Xin chào bạn\"\n"
     ]
    }
   ],
   "source": [
    "#5\n",
    "print('Xin chào bạn\"')"
   ]
  },
  {
   "cell_type": "code",
   "execution_count": 4,
   "metadata": {},
   "outputs": [],
   "source": [
    "#8\n",
    "# x = print(x)\n",
    "# x = \"1234\" + 567\n",
    "# x=7, y=10\n",
    "x=y=z=10\n",
    "# print = print(123)\n",
    "# abc = print(0)"
   ]
  },
  {
   "cell_type": "code",
   "execution_count": 9,
   "metadata": {},
   "outputs": [
    {
     "name": "stdout",
     "output_type": "stream",
     "text": [
      "Mình về mình có nhớ ta?\n",
      "Mười lăm năm ấy thiết tha mặn nồng\n",
      "Mình về mình có nhớ không\n",
      "Nhìn cây nhớ núi, nhìn sông nhớ nguồn\n"
     ]
    }
   ],
   "source": [
    "#16\n",
    "print(\"\"\"Mình về mình có nhớ ta?\n",
    "Mười lăm năm ấy thiết tha mặn nồng\n",
    "Mình về mình có nhớ không\n",
    "Nhìn cây nhớ núi, nhìn sông nhớ nguồn\"\"\")"
   ]
  },
  {
   "cell_type": "code",
   "execution_count": 11,
   "metadata": {},
   "outputs": [
    {
     "name": "stdout",
     "output_type": "stream",
     "text": [
      "55\n"
     ]
    }
   ],
   "source": [
    "#17\n",
    "x = 1 + 2 + 3 + 4 + 5 + 6 + 7 + 8 + 9 + 10\n",
    "print(x)"
   ]
  },
  {
   "cell_type": "code",
   "execution_count": 13,
   "metadata": {},
   "outputs": [
    {
     "name": "stdout",
     "output_type": "stream",
     "text": [
      "3413\n"
     ]
    }
   ],
   "source": [
    "#18\n",
    "x = 1**1 + 2**2 + 3**3 + 4**4 + 5**5\n",
    "print(x)"
   ]
  },
  {
   "cell_type": "code",
   "execution_count": 14,
   "metadata": {},
   "outputs": [
    {
     "name": "stdout",
     "output_type": "stream",
     "text": [
      "Hà Nội\n",
      "Thủ đô\n",
      "Việt Nam "
     ]
    }
   ],
   "source": [
    "#19\n",
    "print('Hà Nội', 'Thủ đô', 'Việt Nam', sep='\\n', end=' ')"
   ]
  }
 ],
 "metadata": {
  "kernelspec": {
   "display_name": "Python 3.9.6 64-bit",
   "language": "python",
   "name": "python3"
  },
  "language_info": {
   "codemirror_mode": {
    "name": "ipython",
    "version": 3
   },
   "file_extension": ".py",
   "mimetype": "text/x-python",
   "name": "python",
   "nbconvert_exporter": "python",
   "pygments_lexer": "ipython3",
   "version": "3.9.6"
  },
  "orig_nbformat": 4,
  "vscode": {
   "interpreter": {
    "hash": "bbc25e548b8fdb4739872b66bb4c170fba8f94c647bc6fede3672cd60c9fe150"
   }
  }
 },
 "nbformat": 4,
 "nbformat_minor": 2
}

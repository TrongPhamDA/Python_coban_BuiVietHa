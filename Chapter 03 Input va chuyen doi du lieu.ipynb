{
 "cells": [
  {
   "cell_type": "code",
   "execution_count": 5,
   "metadata": {},
   "outputs": [
    {
     "name": "stdout",
     "output_type": "stream",
     "text": [
      "Xin chào: Trọng\n"
     ]
    }
   ],
   "source": [
    "name = input('Họ tên:')\n",
    "print('Xin chào:', name)"
   ]
  },
  {
   "cell_type": "markdown",
   "metadata": {},
   "source": [
    "# CÂU HỎI & BÀI TẬP"
   ]
  },
  {
   "cell_type": "code",
   "execution_count": 6,
   "metadata": {},
   "outputs": [
    {
     "name": "stdout",
     "output_type": "stream",
     "text": [
      "False\n",
      "False\n",
      "True\n",
      "False\n"
     ]
    }
   ],
   "source": [
    "#1\n",
    "#print ((1 < 2) == (3 < 4))\n",
    "print(1 < 2 == 3 < 4)\n",
    "print(4 < 4 - 1)\n",
    "print(False == False)\n",
    "print(True == False)   "
   ]
  },
  {
   "cell_type": "code",
   "execution_count": 7,
   "metadata": {},
   "outputs": [
    {
     "name": "stdout",
     "output_type": "stream",
     "text": [
      "10\n"
     ]
    },
    {
     "data": {
      "text/plain": [
       "str"
      ]
     },
     "execution_count": 7,
     "metadata": {},
     "output_type": "execute_result"
    }
   ],
   "source": [
    "#2\n",
    "x = input('Enter X: ')\n",
    "print(x)\n",
    "type(x)"
   ]
  },
  {
   "cell_type": "code",
   "execution_count": 8,
   "metadata": {},
   "outputs": [],
   "source": [
    "#3\n",
    "x = int(input('Nhập x: '))"
   ]
  },
  {
   "cell_type": "code",
   "execution_count": 9,
   "metadata": {},
   "outputs": [],
   "source": [
    "#4\n",
    "x = int(input('Nhập x: '))"
   ]
  },
  {
   "cell_type": "code",
   "execution_count": 10,
   "metadata": {},
   "outputs": [
    {
     "name": "stdout",
     "output_type": "stream",
     "text": [
      "10.0\n"
     ]
    },
    {
     "data": {
      "text/plain": [
       "float"
      ]
     },
     "execution_count": 10,
     "metadata": {},
     "output_type": "execute_result"
    }
   ],
   "source": [
    "#5\n",
    "x = float(input('Nhập x: '))\n",
    "print(x)\n",
    "type(x)"
   ]
  },
  {
   "cell_type": "code",
   "execution_count": 11,
   "metadata": {},
   "outputs": [
    {
     "ename": "TypeError",
     "evalue": "globals must be a real dict; try eval(expr, {}, mapping)",
     "output_type": "error",
     "traceback": [
      "\u001b[1;31m---------------------------------------------------------------------------\u001b[0m",
      "\u001b[1;31mTypeError\u001b[0m                                 Traceback (most recent call last)",
      "\u001b[1;32m~\\AppData\\Local\\Temp/ipykernel_8852/494444015.py\u001b[0m in \u001b[0;36m<module>\u001b[1;34m\u001b[0m\n\u001b[0;32m      1\u001b[0m \u001b[1;31m#6\u001b[0m\u001b[1;33m\u001b[0m\u001b[1;33m\u001b[0m\u001b[1;33m\u001b[0m\u001b[0m\n\u001b[1;32m----> 2\u001b[1;33m \u001b[0mprint\u001b[0m\u001b[1;33m(\u001b[0m\u001b[0meval\u001b[0m\u001b[1;33m(\u001b[0m\u001b[1;34m'2+2**5'\u001b[0m\u001b[1;33m,\u001b[0m \u001b[1;34m'3+4/3, 5**2'\u001b[0m\u001b[1;33m,\u001b[0m \u001b[1;34m'3.456+2.890'\u001b[0m\u001b[1;33m)\u001b[0m\u001b[1;33m)\u001b[0m\u001b[1;33m\u001b[0m\u001b[1;33m\u001b[0m\u001b[0m\n\u001b[0m",
      "\u001b[1;31mTypeError\u001b[0m: globals must be a real dict; try eval(expr, {}, mapping)"
     ]
    }
   ],
   "source": [
    "#6\n",
    "print(eval('2+2**5', '3+4/3, 5**2', '3.456+2.890'))\n"
   ]
  },
  {
   "cell_type": "code",
   "execution_count": 21,
   "metadata": {},
   "outputs": [
    {
     "name": "stdout",
     "output_type": "stream",
     "text": [
      "Tổng của 1 và 2 là: 3\n",
      "Tích của 1 và 2 là: 2\n"
     ]
    }
   ],
   "source": [
    "#7\n",
    "m, n = eval(input('Nhập 2 số m, n: '))\n",
    "m=int(m) ; n=int(n)\n",
    "print(f'Tổng của {m} và {n} là: {m+n}')\n",
    "print(f'Tích của {m} và {n} là: {m*n}')"
   ]
  },
  {
   "cell_type": "code",
   "execution_count": 20,
   "metadata": {},
   "outputs": [
    {
     "name": "stdout",
     "output_type": "stream",
     "text": [
      "a=3.0, b=4.0, c=5.0 có thể tạo thành 1 tam giác\n"
     ]
    }
   ],
   "source": [
    "#8\n",
    "a, b, c = eval(input('Nhập 3 số a, b, c: '))\n",
    "a=float(a) ; b=float(b) ; c=float(c)\n",
    "if (a+b)>c and (a+c)>b and (b+c)>a: print(f'a={a}, b={b}, c={c} có thể tạo thành 1 tam giác')\n",
    "else                              : print(f'a={a}, b={b}, c={c} không thể tạo thành 1 tam giác')"
   ]
  },
  {
   "cell_type": "code",
   "execution_count": 19,
   "metadata": {},
   "outputs": [
    {
     "name": "stdout",
     "output_type": "stream",
     "text": [
      "True\n",
      "True\n",
      "False\n"
     ]
    }
   ],
   "source": [
    "#9\n",
    "def nam_nhuan(y):\n",
    "    if (y % 400 == 0) or ((y % 4 == 0) and (y % 100 != 0)): return True\n",
    "    else: return False\n",
    "print(nam_nhuan(2000))\n",
    "print(nam_nhuan(2020))\n",
    "print(nam_nhuan(2022))"
   ]
  },
  {
   "cell_type": "code",
   "execution_count": null,
   "metadata": {},
   "outputs": [],
   "source": [
    "#10\n",
    "from datetime import date\n",
    "def date_check(d, m, y):\n",
    "    try:\n",
    "        x=date(y, m, d)\n",
    "        return True\n",
    "    except:\n",
    "        return False\n",
    "        \n",
    "print(date_check(5.0,  9, 2022))\n",
    "print(date_check(5  , 13, 2022))\n",
    "print(date_check(5  ,  9, 2022))"
   ]
  },
  {
   "cell_type": "code",
   "execution_count": 18,
   "metadata": {},
   "outputs": [
    {
     "name": "stdout",
     "output_type": "stream",
     "text": [
      "True\n",
      "False\n",
      "True\n"
     ]
    }
   ],
   "source": [
    "def date_check_2(d, m, y):\n",
    "    if (d==int(d)) and (m==int(m)) and (y==int(y)) and (m>=1 and m<=12) and (d>0) and (y>0):\n",
    "        if (m==1 or m==3 or m==5 or m==7 or m==8 or m==10 or m==12) and (d<=31): return True\n",
    "        if (m==4 or m==6 or m==9 or m==11) and (d<=30): return True\n",
    "        if (m==2):\n",
    "            if (nam_nhuan(y) == True) and (d<=29): return True\n",
    "            if (nam_nhuan(y) == False) and (d<=28): return True\n",
    "    else: return False\n",
    "\n",
    "print(date_check_2(5.0,  9, 2022))\n",
    "print(date_check_2(5  , 13, 2022))\n",
    "print(date_check_2(5  ,  9, 2022))  "
   ]
  },
  {
   "cell_type": "code",
   "execution_count": 23,
   "metadata": {},
   "outputs": [
    {
     "name": "stdout",
     "output_type": "stream",
     "text": [
      "error!\n",
      "60 ngày.\n",
      "61 ngày.\n",
      "59 ngày.\n",
      "60 ngày.\n"
     ]
    }
   ],
   "source": [
    "#11\n",
    "#d, m, y = eval(input('Nhap 3 số Ngày, Tháng, Năm: '))\n",
    "def days_fromJan1st(d, m, y):\n",
    "    s = 0\n",
    "    if date_check_2(d, m, y) == True:\n",
    "        d=int(d); m=int(m); y=int(y)\n",
    "        if m == 12: s += 30\n",
    "        if m >= 11: s += 31\n",
    "        if m >= 10: s += 30\n",
    "        if m >= 9:  s += 31\n",
    "        if m >= 8:  s += 31\n",
    "        if m >= 7:  s += 30\n",
    "        if m >= 6:  s += 31\n",
    "        if m >= 5:  s += 30\n",
    "        if m >= 4:  s += 31\n",
    "        if m >= 3:\n",
    "            if nam_nhuan(y) == True: s += 29\n",
    "            else                   : s += 28\n",
    "        if m >= 2:  s += 31\n",
    "        if m >= 1:  s += d\n",
    "        return   f'{s} ngày.'\n",
    "    else: return f'error!'\n",
    "\n",
    "print(days_fromJan1st(1  , 13, 2022))\n",
    "print(days_fromJan1st(1.0,  3, 2022))\n",
    "print(days_fromJan1st(1  ,  3, 2020))\n",
    "print(days_fromJan1st(28 ,  2, 2022))\n",
    "print(days_fromJan1st(29 ,  2, 2020))"
   ]
  },
  {
   "cell_type": "code",
   "execution_count": 28,
   "metadata": {},
   "outputs": [
    {
     "name": "stdout",
     "output_type": "stream",
     "text": [
      "3 là số nguyên tố\n",
      "7 là số nguyên tố\n",
      "10 không phải số nguyên tố\n"
     ]
    }
   ],
   "source": [
    "#12\n",
    "def songuyento_check(n):\n",
    "    count_num = 0\n",
    "    for i in range(1, n):\n",
    "        if n % i == 0: count_num += 1\n",
    "    if count_num == 1: return True\n",
    "    else             : return False\n",
    "    \n",
    "def songuyento_2(n):\n",
    "    count_num = 0\n",
    "    for i in range(1, n):\n",
    "        if n % i == 0: count_num += 1\n",
    "    if count_num == 1: return  f'{n} là số nguyên tố'\n",
    "    else             : return  f'{n} không phải số nguyên tố'\n",
    "    \n",
    "print(songuyento_2(3))\n",
    "print(songuyento_2(7))\n",
    "print(songuyento_2(10))"
   ]
  },
  {
   "cell_type": "code",
   "execution_count": 15,
   "metadata": {},
   "outputs": [
    {
     "name": "stdout",
     "output_type": "stream",
     "text": [
      "error\n",
      "error\n",
      "59 giây = 59 giây\n",
      "60 giây = 1 phút \n",
      "7,380 giây = 2 giờ 3 phút \n",
      "3,602 giây = 1 giờ 2 giây\n",
      "3,723 giây = 1 giờ 2 phút 3 giây\n",
      "4,445,999 giây = 1,234 giờ 59 phút 59 giây\n"
     ]
    }
   ],
   "source": [
    "#13\n",
    "def convert_ss_to_hhmmss(s):\n",
    "    if s > 0:\n",
    "        hh = s // 3600\n",
    "        mm = (s - hh * 3600) // 60\n",
    "        ss = (s - hh * 3600 - mm * 60)\n",
    "        f_string = f'{s:,} giây = '\n",
    "        if hh>0: f_string = f_string + f'{hh:,} giờ '\n",
    "        if mm>0: f_string = f_string + f'{mm} phút '\n",
    "        if ss>0: f_string = f_string + f'{ss} giây'\n",
    "        return f_string\n",
    "    else: return f'error'\n",
    "\n",
    "print(convert_ss_to_hhmmss(-3))\n",
    "print(convert_ss_to_hhmmss(0))\n",
    "print(convert_ss_to_hhmmss(59))\n",
    "print(convert_ss_to_hhmmss(60))\n",
    "print(convert_ss_to_hhmmss(7380))\n",
    "print(convert_ss_to_hhmmss(3602))\n",
    "print(convert_ss_to_hhmmss(3723))\n",
    "print(convert_ss_to_hhmmss(4445999))\n"
   ]
  },
  {
   "cell_type": "code",
   "execution_count": 14,
   "metadata": {},
   "outputs": [
    {
     "name": "stdout",
     "output_type": "stream",
     "text": [
      "1\n",
      "2\n",
      "5\n"
     ]
    }
   ],
   "source": [
    "#14\n",
    "def print_uoc_so(n):\n",
    "    if n > 0:\n",
    "        for i in range(1, n):\n",
    "            if n % i == 0: print(f'{i}')\n",
    "    else: return f'error'\n",
    "    \n",
    "print_uoc_so(10)"
   ]
  },
  {
   "cell_type": "code",
   "execution_count": 13,
   "metadata": {},
   "outputs": [
    {
     "data": {
      "text/plain": [
       "'10 có 3 ước số thực sự'"
      ]
     },
     "execution_count": 13,
     "metadata": {},
     "output_type": "execute_result"
    }
   ],
   "source": [
    "#15\n",
    "def print_uoc_so_count(n):\n",
    "    if n > 0:\n",
    "        cnt = 0\n",
    "        for i in range(1, n):\n",
    "            if n % i == 0: cnt += 1\n",
    "        return f'{n:,} có {cnt:,} ước số thực sự'\n",
    "    else: return f'error'\n",
    "    \n",
    "print_uoc_so_count(10)"
   ]
  },
  {
   "cell_type": "code",
   "execution_count": 12,
   "metadata": {},
   "outputs": [
    {
     "name": "stdout",
     "output_type": "stream",
     "text": [
      "N=10\n",
      "a) 210\n",
      "b) 25\n",
      "c) 20\n"
     ]
    }
   ],
   "source": [
    "#16\n",
    "n = int(input('Nhập số tự nhiên N = '))\n",
    "print(f'N={n}')\n",
    "\n",
    "s1 = s2 = s3 = 0\n",
    "for i in range(1, n*2+1):\n",
    "    s1 += i\n",
    "    if (i < n):\n",
    "        if i % 2 == 1: s2 += i\n",
    "        else         : s3 += i\n",
    "    \n",
    "print(f'a) {s1:,}')\n",
    "print(f'b) {s2:,}')\n",
    "print(f'c) {s3:,}')"
   ]
  },
  {
   "cell_type": "code",
   "execution_count": 43,
   "metadata": {},
   "outputs": [
    {
     "name": "stdout",
     "output_type": "stream",
     "text": [
      "N = 10\n",
      "4\n",
      "12\n",
      "385\n"
     ]
    }
   ],
   "source": [
    "#17\n",
    "#n = int(input('Nhập số tự nhiên N = '))\n",
    "n=10\n",
    "print(f'N = {n}')\n",
    "\n",
    "cnt = s1 = s2 = 0\n",
    "for i in range(1, n+1):\n",
    "    if songuyento_check(i) == True: cnt += 1\n",
    "for i in range(1, n):\n",
    "    if n%i==1: s1 += i\n",
    "for i in range (1, n+1):\n",
    "    s2  += i**2\n",
    "print(cnt, s1, s2, sep='\\n')"
   ]
  },
  {
   "cell_type": "code",
   "execution_count": 47,
   "metadata": {},
   "outputs": [
    {
     "name": "stdout",
     "output_type": "stream",
     "text": [
      "<class 'int'>\n",
      "<class 'float'>\n",
      "<class 'str'>\n",
      "<class 'bool'>\n"
     ]
    }
   ],
   "source": [
    "#18\n",
    "print(type(1))\n",
    "print(type(1.0))\n",
    "print(type('1.0'))\n",
    "print(type(True))"
   ]
  },
  {
   "cell_type": "code",
   "execution_count": 61,
   "metadata": {},
   "outputs": [
    {
     "name": "stdout",
     "output_type": "stream",
     "text": [
      "N = 100 : 338350 = 338350 -> True\n",
      "N = 101 : 348551 = 348551 -> True\n",
      "N = 102 : 358955 = 358955 -> True\n",
      "N = 103 : 369564 = 369564 -> True\n",
      "N = 104 : 380380 = 380380 -> True\n",
      "N = 105 : 391405 = 391405 -> True\n",
      "N = 106 : 402641 = 402641 -> True\n",
      "N = 107 : 414090 = 414090 -> True\n",
      "N = 108 : 425754 = 425754 -> True\n",
      "N = 109 : 437635 = 437635 -> True\n",
      "N = 110 : 449735 = 449735 -> True\n"
     ]
    }
   ],
   "source": [
    "#19\n",
    "def func_left(n):\n",
    "    s=0\n",
    "    for i in range(1, n+1):\n",
    "        s += i**2\n",
    "    return s\n",
    "def func_right(n):\n",
    "    return int(n*(n+1)*(2 * n + 1) / 6)\n",
    "def func_result(n):\n",
    "    return f'N = {n:,} : {func_left(n)} = {func_right(n)} -> {func_left(n) == func_right(n)}'\n",
    "\n",
    "for i in range (100,111): print(func_result(i))  "
   ]
  },
  {
   "cell_type": "code",
   "execution_count": 65,
   "metadata": {},
   "outputs": [
    {
     "name": "stdout",
     "output_type": "stream",
     "text": [
      "N = 100 : 25502500 = 25502500 -> True\n",
      "N = 101 : 26532801 = 26532801 -> True\n",
      "N = 102 : 27594009 = 27594009 -> True\n",
      "N = 103 : 28686736 = 28686736 -> True\n",
      "N = 104 : 29811600 = 29811600 -> True\n",
      "N = 105 : 30969225 = 30969225 -> True\n",
      "N = 106 : 32160241 = 32160241 -> True\n",
      "N = 107 : 33385284 = 33385284 -> True\n",
      "N = 108 : 34644996 = 34644996 -> True\n",
      "N = 109 : 35940025 = 35940025 -> True\n",
      "N = 110 : 37271025 = 37271025 -> True\n"
     ]
    }
   ],
   "source": [
    "#20\n",
    "def func_left2(n):\n",
    "    s=0\n",
    "    for i in range(1, n+1):\n",
    "        s += i**3\n",
    "    return s\n",
    "def func_right2(n):\n",
    "    s=0\n",
    "    for i in range(1, n+1):\n",
    "        s += i\n",
    "    return s**2\n",
    "def func_result2(n):\n",
    "    return f'N = {n:,} : {func_left2(n)} = {func_right2(n)} -> {func_left2(n) == func_right2(n)}'\n",
    "\n",
    "for i in range (100,111): print(func_result2(i))  "
   ]
  },
  {
   "cell_type": "code",
   "execution_count": 72,
   "metadata": {},
   "outputs": [
    {
     "name": "stdout",
     "output_type": "stream",
     "text": [
      "Có 1 số nguyên tố < 3\n"
     ]
    }
   ],
   "source": [
    "#21\n",
    "def count_songuyento(n):\n",
    "    cnt = 0\n",
    "    for i in range(1, n):\n",
    "        if songuyento_check(i): cnt += 1\n",
    "    return cnt\n",
    "\n",
    "n = 3\n",
    "print(f'Có {count_songuyento(n):,} số nguyên tố < {n}')"
   ]
  },
  {
   "cell_type": "code",
   "execution_count": 83,
   "metadata": {},
   "outputs": [
    {
     "name": "stdout",
     "output_type": "stream",
     "text": [
      "Số nguyên tố >= 1000 là 1009\n"
     ]
    }
   ],
   "source": [
    "#22\n",
    "def songuyento_nhonhat(n):\n",
    "    while True:\n",
    "       if songuyento_check(n): return n\n",
    "       else: n+=1\n",
    "n= 1000\n",
    "print(f'Số nguyên tố >= {n} là {songuyento_nhonhat(n)}') "
   ]
  },
  {
   "cell_type": "code",
   "execution_count": 93,
   "metadata": {},
   "outputs": [
    {
     "name": "stdout",
     "output_type": "stream",
     "text": [
      "6 là số hoàn hảo\n",
      "10 không phải là số hoàn hảo\n",
      "28 là số hoàn hảo\n",
      "496 là số hoàn hảo\n",
      "8128 là số hoàn hảo\n"
     ]
    }
   ],
   "source": [
    "#23\n",
    "# Số hoàn hảo: 6, 28, 496, 8128\n",
    "def sohoanhao_check(n):\n",
    "    s=0\n",
    "    for i in range(1, n):\n",
    "        if n % i == 0: s+=i\n",
    "    if n == s: return True\n",
    "    else: return False\n",
    "def sohoanhao_result(n):\n",
    "    if sohoanhao_check(n): return f'{n} là số hoàn hảo'\n",
    "    else: return f'{n} không phải là số hoàn hảo'\n",
    "\n",
    "print(sohoanhao_result(6))\n",
    "print(sohoanhao_result(10))\n",
    "print(sohoanhao_result(28))\n",
    "print(sohoanhao_result(496))\n",
    "print(sohoanhao_result(8128))"
   ]
  },
  {
   "cell_type": "code",
   "execution_count": 100,
   "metadata": {},
   "outputs": [
    {
     "name": "stdout",
     "output_type": "stream",
     "text": [
      "[6, 28, 496, 8128]\n"
     ]
    }
   ],
   "source": [
    "#24\n",
    "sohoanhao = []\n",
    "for i in range(1, 10000):\n",
    "    if sohoanhao_check(i):\n",
    "        sohoanhao.append(i)\n",
    "\n",
    "print(sohoanhao)"
   ]
  },
  {
   "cell_type": "code",
   "execution_count": 105,
   "metadata": {},
   "outputs": [
    {
     "name": "stdout",
     "output_type": "stream",
     "text": [
      "(3, 5)\n",
      "(5, 7)\n",
      "(11, 13)\n",
      "(17, 19)\n",
      "(29, 31)\n",
      "(41, 43)\n",
      "(59, 61)\n",
      "(71, 73)\n",
      "(101, 103)\n",
      "(107, 109)\n",
      "(137, 139)\n",
      "(149, 151)\n",
      "(179, 181)\n",
      "(191, 193)\n",
      "(197, 199)\n",
      "(227, 229)\n",
      "(239, 241)\n",
      "(269, 271)\n",
      "(281, 283)\n",
      "(311, 313)\n",
      "(347, 349)\n",
      "(419, 421)\n",
      "(431, 433)\n",
      "(461, 463)\n",
      "(521, 523)\n",
      "(569, 571)\n",
      "(599, 601)\n",
      "(617, 619)\n",
      "(641, 643)\n",
      "(659, 661)\n",
      "(809, 811)\n",
      "(821, 823)\n",
      "(827, 829)\n",
      "(857, 859)\n",
      "(881, 883)\n",
      "(1019, 1021)\n",
      "(1031, 1033)\n",
      "(1049, 1051)\n",
      "(1061, 1063)\n",
      "(1091, 1093)\n",
      "(1151, 1153)\n",
      "(1229, 1231)\n",
      "(1277, 1279)\n",
      "(1289, 1291)\n",
      "(1301, 1303)\n",
      "(1319, 1321)\n",
      "(1427, 1429)\n",
      "(1451, 1453)\n",
      "(1481, 1483)\n",
      "(1487, 1489)\n",
      "(1607, 1609)\n",
      "(1619, 1621)\n",
      "(1667, 1669)\n",
      "(1697, 1699)\n",
      "(1721, 1723)\n",
      "(1787, 1789)\n",
      "(1871, 1873)\n",
      "(1877, 1879)\n",
      "(1931, 1933)\n",
      "(1949, 1951)\n",
      "(1997, 1999)\n",
      "(2027, 2029)\n",
      "(2081, 2083)\n",
      "(2087, 2089)\n",
      "(2111, 2113)\n",
      "(2129, 2131)\n",
      "(2141, 2143)\n",
      "(2237, 2239)\n",
      "(2267, 2269)\n",
      "(2309, 2311)\n",
      "(2339, 2341)\n",
      "(2381, 2383)\n",
      "(2549, 2551)\n",
      "(2591, 2593)\n",
      "(2657, 2659)\n",
      "(2687, 2689)\n",
      "(2711, 2713)\n",
      "(2729, 2731)\n",
      "(2789, 2791)\n",
      "(2801, 2803)\n",
      "(2969, 2971)\n",
      "(2999, 3001)\n",
      "(3119, 3121)\n",
      "(3167, 3169)\n",
      "(3251, 3253)\n",
      "(3257, 3259)\n",
      "(3299, 3301)\n",
      "(3329, 3331)\n",
      "(3359, 3361)\n",
      "(3371, 3373)\n",
      "(3389, 3391)\n",
      "(3461, 3463)\n",
      "(3467, 3469)\n",
      "(3527, 3529)\n",
      "(3539, 3541)\n",
      "(3557, 3559)\n",
      "(3581, 3583)\n",
      "(3671, 3673)\n",
      "(3767, 3769)\n",
      "(3821, 3823)\n",
      "(3851, 3853)\n",
      "(3917, 3919)\n",
      "(3929, 3931)\n",
      "(4001, 4003)\n",
      "(4019, 4021)\n",
      "(4049, 4051)\n",
      "(4091, 4093)\n",
      "(4127, 4129)\n",
      "(4157, 4159)\n",
      "(4217, 4219)\n",
      "(4229, 4231)\n",
      "(4241, 4243)\n",
      "(4259, 4261)\n",
      "(4271, 4273)\n",
      "(4337, 4339)\n",
      "(4421, 4423)\n",
      "(4481, 4483)\n",
      "(4517, 4519)\n",
      "(4547, 4549)\n",
      "(4637, 4639)\n",
      "(4649, 4651)\n",
      "(4721, 4723)\n",
      "(4787, 4789)\n",
      "(4799, 4801)\n",
      "(4931, 4933)\n",
      "(4967, 4969)\n",
      "(5009, 5011)\n",
      "(5021, 5023)\n",
      "(5099, 5101)\n",
      "(5231, 5233)\n",
      "(5279, 5281)\n",
      "(5417, 5419)\n",
      "(5441, 5443)\n",
      "(5477, 5479)\n",
      "(5501, 5503)\n",
      "(5519, 5521)\n",
      "(5639, 5641)\n",
      "(5651, 5653)\n",
      "(5657, 5659)\n",
      "(5741, 5743)\n",
      "(5849, 5851)\n",
      "(5867, 5869)\n",
      "(5879, 5881)\n",
      "(6089, 6091)\n",
      "(6131, 6133)\n",
      "(6197, 6199)\n",
      "(6269, 6271)\n",
      "(6299, 6301)\n",
      "(6359, 6361)\n",
      "(6449, 6451)\n",
      "(6551, 6553)\n",
      "(6569, 6571)\n",
      "(6659, 6661)\n",
      "(6689, 6691)\n",
      "(6701, 6703)\n",
      "(6761, 6763)\n",
      "(6779, 6781)\n",
      "(6791, 6793)\n",
      "(6827, 6829)\n",
      "(6869, 6871)\n",
      "(6947, 6949)\n",
      "(6959, 6961)\n",
      "(7127, 7129)\n",
      "(7211, 7213)\n",
      "(7307, 7309)\n",
      "(7331, 7333)\n",
      "(7349, 7351)\n",
      "(7457, 7459)\n",
      "(7487, 7489)\n",
      "(7547, 7549)\n",
      "(7559, 7561)\n",
      "(7589, 7591)\n",
      "(7757, 7759)\n",
      "(7877, 7879)\n",
      "(7949, 7951)\n",
      "(8009, 8011)\n",
      "(8087, 8089)\n",
      "(8219, 8221)\n",
      "(8231, 8233)\n",
      "(8291, 8293)\n",
      "(8387, 8389)\n",
      "(8429, 8431)\n",
      "(8537, 8539)\n",
      "(8597, 8599)\n",
      "(8627, 8629)\n",
      "(8819, 8821)\n",
      "(8837, 8839)\n",
      "(8861, 8863)\n",
      "(8969, 8971)\n",
      "(8999, 9001)\n",
      "(9011, 9013)\n",
      "(9041, 9043)\n",
      "(9239, 9241)\n",
      "(9281, 9283)\n",
      "(9341, 9343)\n",
      "(9419, 9421)\n",
      "(9431, 9433)\n",
      "(9437, 9439)\n",
      "(9461, 9463)\n",
      "(9629, 9631)\n",
      "(9677, 9679)\n",
      "(9719, 9721)\n",
      "(9767, 9769)\n",
      "(9857, 9859)\n",
      "(9929, 9931)\n"
     ]
    }
   ],
   "source": [
    "#25\n",
    "songuyento = []\n",
    "for i in range(1, 10000):\n",
    "    if songuyento_check(i): songuyento.append(i)\n",
    "#print(songuyento)    \n",
    "for i in range(len(songuyento) -1):\n",
    "    if songuyento[i] == songuyento[i+1] - 2: print(f'({songuyento[i]}, {songuyento[i+1]})')"
   ]
  }
 ],
 "metadata": {
  "kernelspec": {
   "display_name": "Python 3.9.6 64-bit",
   "language": "python",
   "name": "python3"
  },
  "language_info": {
   "codemirror_mode": {
    "name": "ipython",
    "version": 3
   },
   "file_extension": ".py",
   "mimetype": "text/x-python",
   "name": "python",
   "nbconvert_exporter": "python",
   "pygments_lexer": "ipython3",
   "version": "3.9.6"
  },
  "orig_nbformat": 4,
  "vscode": {
   "interpreter": {
    "hash": "bbc25e548b8fdb4739872b66bb4c170fba8f94c647bc6fede3672cd60c9fe150"
   }
  }
 },
 "nbformat": 4,
 "nbformat_minor": 2
}

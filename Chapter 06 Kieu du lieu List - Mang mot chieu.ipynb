{
 "cells": [
  {
   "cell_type": "markdown",
   "metadata": {},
   "source": [
    "## CHƯƠNG 6 - MẢNG 1 CHIỀU - KIỂU LIST"
   ]
  },
  {
   "cell_type": "code",
   "execution_count": null,
   "metadata": {},
   "outputs": [],
   "source": [
    "dir(list)\n",
    "#append\n",
    "#clear\n",
    "#copy\n",
    "#count\n",
    "#extend\n",
    "#index\n",
    "#insert\n",
    "#pop\n",
    "#remove\n",
    "#reverse\n",
    "#sort"
   ]
  },
  {
   "cell_type": "code",
   "execution_count": null,
   "metadata": {},
   "outputs": [],
   "source": [
    "dir(tuple)\n",
    "#count\n",
    "#index"
   ]
  },
  {
   "cell_type": "markdown",
   "metadata": {},
   "source": [
    "# CÂU HỎI - BÀI TẬP"
   ]
  },
  {
   "cell_type": "code",
   "execution_count": 26,
   "metadata": {},
   "outputs": [
    {
     "data": {
      "text/plain": [
       "[-3, -2, -1, 0, 1, 2]"
      ]
     },
     "execution_count": 26,
     "metadata": {},
     "output_type": "execute_result"
    }
   ],
   "source": [
    "#1\n",
    "list(range(-3,3))"
   ]
  },
  {
   "cell_type": "code",
   "execution_count": 27,
   "metadata": {},
   "outputs": [
    {
     "name": "stdout",
     "output_type": "stream",
     "text": [
      "[[1, 2, 3]]\n"
     ]
    }
   ],
   "source": [
    "#2\n",
    "A=[]\n",
    "A.append([1,2,3])\n",
    "print(A)"
   ]
  },
  {
   "cell_type": "code",
   "execution_count": 28,
   "metadata": {},
   "outputs": [
    {
     "name": "stdout",
     "output_type": "stream",
     "text": [
      "[1, 5]\n"
     ]
    }
   ],
   "source": [
    "#3\n",
    "X=[]\n",
    "X.append(1)\n",
    "X.append(5)\n",
    "print(X)"
   ]
  },
  {
   "cell_type": "code",
   "execution_count": 29,
   "metadata": {},
   "outputs": [
    {
     "data": {
      "text/plain": [
       "[-3, 0]"
      ]
     },
     "execution_count": 29,
     "metadata": {},
     "output_type": "execute_result"
    }
   ],
   "source": [
    "#4\n",
    "list(range(-3,3,3))"
   ]
  },
  {
   "cell_type": "code",
   "execution_count": 30,
   "metadata": {},
   "outputs": [
    {
     "data": {
      "text/plain": [
       "[]"
      ]
     },
     "execution_count": 30,
     "metadata": {},
     "output_type": "execute_result"
    }
   ],
   "source": [
    "#5\n",
    "list(range(-3))"
   ]
  },
  {
   "cell_type": "code",
   "execution_count": 31,
   "metadata": {},
   "outputs": [
    {
     "data": {
      "text/plain": [
       "120"
      ]
     },
     "execution_count": 31,
     "metadata": {},
     "output_type": "execute_result"
    }
   ],
   "source": [
    "#6\n",
    "def multi(start, stop):\n",
    "    P=1\n",
    "    for i in range(start, stop):\n",
    "        P=P*i\n",
    "    return P\n",
    "multi(1,6) # = 5! = 1.2.3.4.5 = 120"
   ]
  },
  {
   "cell_type": "code",
   "execution_count": 36,
   "metadata": {},
   "outputs": [
    {
     "ename": "TypeError",
     "evalue": "'<' not supported between instances of 'str' and 'int'",
     "output_type": "error",
     "traceback": [
      "\u001b[1;31m---------------------------------------------------------------------------\u001b[0m",
      "\u001b[1;31mTypeError\u001b[0m                                 Traceback (most recent call last)",
      "\u001b[1;32m~\\AppData\\Local\\Temp/ipykernel_10464/550759722.py\u001b[0m in \u001b[0;36m<module>\u001b[1;34m\u001b[0m\n\u001b[0;32m      1\u001b[0m \u001b[1;31m#7\u001b[0m\u001b[1;33m\u001b[0m\u001b[1;33m\u001b[0m\u001b[1;33m\u001b[0m\u001b[0m\n\u001b[0;32m      2\u001b[0m \u001b[0mA\u001b[0m\u001b[1;33m=\u001b[0m\u001b[1;33m[\u001b[0m\u001b[1;36m9\u001b[0m\u001b[1;33m,\u001b[0m\u001b[1;36m1\u001b[0m\u001b[1;33m,\u001b[0m\u001b[1;36m15\u001b[0m\u001b[1;33m,\u001b[0m\u001b[1;36m0\u001b[0m\u001b[1;33m,\u001b[0m\u001b[1;34m'abc'\u001b[0m\u001b[1;33m,\u001b[0m\u001b[1;36m2\u001b[0m\u001b[1;33m,\u001b[0m\u001b[1;34m'de'\u001b[0m\u001b[1;33m]\u001b[0m\u001b[1;33m\u001b[0m\u001b[1;33m\u001b[0m\u001b[0m\n\u001b[1;32m----> 3\u001b[1;33m \u001b[0mA\u001b[0m\u001b[1;33m.\u001b[0m\u001b[0msort\u001b[0m\u001b[1;33m(\u001b[0m\u001b[1;33m)\u001b[0m\u001b[1;33m\u001b[0m\u001b[1;33m\u001b[0m\u001b[0m\n\u001b[0m",
      "\u001b[1;31mTypeError\u001b[0m: '<' not supported between instances of 'str' and 'int'"
     ]
    }
   ],
   "source": [
    "#7\n",
    "A=[9,1,15,0,'abc',2,'de']\n",
    "A.sort()"
   ]
  },
  {
   "cell_type": "code",
   "execution_count": 37,
   "metadata": {},
   "outputs": [
    {
     "name": "stdout",
     "output_type": "stream",
     "text": [
      "[1, 3, 5]\n"
     ]
    }
   ],
   "source": [
    "#8 List các Ước số tự nhiên của N\n",
    "A = []\n",
    "#n = int(input('Nhập số tự nhiên N = '))\n",
    "n = 15\n",
    "for i in range(1, n):\n",
    "    if n % i == 0: A.append(i)\n",
    "print(A)"
   ]
  },
  {
   "cell_type": "code",
   "execution_count": 38,
   "metadata": {},
   "outputs": [
    {
     "name": "stdout",
     "output_type": "stream",
     "text": [
      "[5, 3, 1]\n"
     ]
    }
   ],
   "source": [
    "#9\n",
    "def listover(A):\n",
    "    B=[]\n",
    "    for item in range(len(A) - 1, -1, -1):\n",
    "        B.append(A[item])\n",
    "    return B\n",
    "a = [1,3,5]\n",
    "print(listover(a))"
   ]
  },
  {
   "cell_type": "code",
   "execution_count": 51,
   "metadata": {},
   "outputs": [
    {
     "name": "stdout",
     "output_type": "stream",
     "text": [
      "[7, 5]\n"
     ]
    }
   ],
   "source": [
    "#10 Cho list A, trả list B chứa các số nguyên tố trong list A\n",
    "A = [] ; B = []\n",
    "#n = int(input('Nhập số tự nhiên N = '))\n",
    "#for i in range(1, n+1):\n",
    "#    x = int(input(f'Nhập số tự nhiên thứ {i}: '))\n",
    "#    A.append(x)\n",
    "n = 5\n",
    "A = [1,7,4,5,10]\n",
    "max_val = max(A) #gán giá trị lớn nhất trong list A\n",
    "find_nguyento = [True for i in range(max_val + 1)]\n",
    "find_nguyento[0] = find_nguyento[1] = False\n",
    "i = 2 #index = 2\n",
    "while i**2 < max_val:\n",
    "    if find_nguyento[i]:\n",
    "        for j in range(i**2, max_val+1, i):\n",
    "            find_nguyento[j] = False\n",
    "    i += 1\n",
    "lenN = len(A)\n",
    "for i in range(lenN):\n",
    "    if find_nguyento[A[i]]:\n",
    "        B.append(A[i])\n",
    "print(B)"
   ]
  },
  {
   "cell_type": "code",
   "execution_count": 53,
   "metadata": {},
   "outputs": [
    {
     "name": "stdout",
     "output_type": "stream",
     "text": [
      "28.9\n"
     ]
    }
   ],
   "source": [
    "#11 Nhập N phần tử số và tính tổng chúng\n",
    "a =[]\n",
    "#n = int(input(f'Nhập số tự nhiên N='))\n",
    "#for i in range(1, n+1):\n",
    "#    x = float(input(f'Nhập phần tử thứ {i}: '))\n",
    "#    a.append(x)\n",
    "n = 5\n",
    "a = [2, 3, 5.0, 7.9, 11]\n",
    "print(sum(a))"
   ]
  },
  {
   "cell_type": "code",
   "execution_count": 63,
   "metadata": {},
   "outputs": [
    {
     "name": "stdout",
     "output_type": "stream",
     "text": [
      "5\n",
      "1.5\n",
      "0.5\n"
     ]
    }
   ],
   "source": [
    "#12 Viết program tính:\n",
    "#a)\n",
    "def func_a(n):\n",
    "    total = 0\n",
    "    for i in range(1, n+1):\n",
    "        total += i**2\n",
    "    return total\n",
    "\n",
    "#b)\n",
    "def func_b(n):\n",
    "    total = 0\n",
    "    for i in range(1, n+1):\n",
    "        total += 1/i\n",
    "    return total\n",
    "\n",
    "#c)\n",
    "def func_c(n):\n",
    "    total = 0\n",
    "    for i in range(2, n+1):\n",
    "        total += 1/((i-1)*i)\n",
    "    return total\n",
    "\n",
    "#n = int(input(f'Nhập số tự nhiên N = '))\n",
    "n=2\n",
    "print(func_a(n))\n",
    "print(func_b(n))\n",
    "print(func_c(n))"
   ]
  },
  {
   "cell_type": "code",
   "execution_count": 65,
   "metadata": {},
   "outputs": [
    {
     "name": "stdout",
     "output_type": "stream",
     "text": [
      "[0, 1, 2, 3, 4, 5, 6, 7, 8, 9, 10, 11]\n"
     ]
    }
   ],
   "source": [
    "#13 ghép list tuần tự A, B vào C\n",
    "A = [0, 2, 4, 6, 8, 10]\n",
    "B = [1, 3, 5, 7, 9, 11]\n",
    "C = []\n",
    "C_len_min = min(len(A), len(B))\n",
    "C_len_max = max(len(A), len(B))\n",
    "\n",
    "for i in range(C_len_max):\n",
    "    if i >= C_len_min:\n",
    "        if len(A) == C_len_min: C.append(B[i])\n",
    "        if len(B) == C_len_min: C.append(A[i])\n",
    "    else:\n",
    "        C.append(A[i])\n",
    "        C.append(B[i])\n",
    "print(C)"
   ]
  }
 ],
 "metadata": {
  "kernelspec": {
   "display_name": "Python 3.9.6 64-bit",
   "language": "python",
   "name": "python3"
  },
  "language_info": {
   "codemirror_mode": {
    "name": "ipython",
    "version": 3
   },
   "file_extension": ".py",
   "mimetype": "text/x-python",
   "name": "python",
   "nbconvert_exporter": "python",
   "pygments_lexer": "ipython3",
   "version": "3.9.6"
  },
  "orig_nbformat": 4,
  "vscode": {
   "interpreter": {
    "hash": "bbc25e548b8fdb4739872b66bb4c170fba8f94c647bc6fede3672cd60c9fe150"
   }
  }
 },
 "nbformat": 4,
 "nbformat_minor": 2
}

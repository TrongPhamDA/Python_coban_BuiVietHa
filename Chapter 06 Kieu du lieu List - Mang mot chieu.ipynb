{
 "cells": [
  {
   "cell_type": "markdown",
   "metadata": {},
   "source": [
    "## CHƯƠNG 6 - MẢNG 1 CHIỀU - KIỂU LIST"
   ]
  },
  {
   "cell_type": "code",
   "execution_count": null,
   "metadata": {},
   "outputs": [],
   "source": [
    "dir(list)\n",
    "#append\n",
    "#clear\n",
    "#copy\n",
    "#count\n",
    "#extend\n",
    "#index\n",
    "#insert\n",
    "#pop\n",
    "#remove\n",
    "#reverse\n",
    "#sort"
   ]
  },
  {
   "cell_type": "code",
   "execution_count": null,
   "metadata": {},
   "outputs": [],
   "source": [
    "dir(tuple)\n",
    "#count\n",
    "#index"
   ]
  },
  {
   "cell_type": "markdown",
   "metadata": {},
   "source": [
    "# CÂU HỎI - BÀI TẬP"
   ]
  },
  {
   "cell_type": "code",
   "execution_count": 26,
   "metadata": {},
   "outputs": [
    {
     "data": {
      "text/plain": [
       "[-3, -2, -1, 0, 1, 2]"
      ]
     },
     "execution_count": 26,
     "metadata": {},
     "output_type": "execute_result"
    }
   ],
   "source": [
    "#1\n",
    "list(range(-3,3))"
   ]
  },
  {
   "cell_type": "code",
   "execution_count": 27,
   "metadata": {},
   "outputs": [
    {
     "name": "stdout",
     "output_type": "stream",
     "text": [
      "[[1, 2, 3]]\n"
     ]
    }
   ],
   "source": [
    "#2\n",
    "A=[]\n",
    "A.append([1,2,3])\n",
    "print(A)"
   ]
  },
  {
   "cell_type": "code",
   "execution_count": 28,
   "metadata": {},
   "outputs": [
    {
     "name": "stdout",
     "output_type": "stream",
     "text": [
      "[1, 5]\n"
     ]
    }
   ],
   "source": [
    "#3\n",
    "X=[]\n",
    "X.append(1)\n",
    "X.append(5)\n",
    "print(X)"
   ]
  },
  {
   "cell_type": "code",
   "execution_count": 29,
   "metadata": {},
   "outputs": [
    {
     "data": {
      "text/plain": [
       "[-3, 0]"
      ]
     },
     "execution_count": 29,
     "metadata": {},
     "output_type": "execute_result"
    }
   ],
   "source": [
    "#4\n",
    "list(range(-3,3,3))"
   ]
  },
  {
   "cell_type": "code",
   "execution_count": 30,
   "metadata": {},
   "outputs": [
    {
     "data": {
      "text/plain": [
       "[]"
      ]
     },
     "execution_count": 30,
     "metadata": {},
     "output_type": "execute_result"
    }
   ],
   "source": [
    "#5\n",
    "list(range(-3))"
   ]
  },
  {
   "cell_type": "code",
   "execution_count": 31,
   "metadata": {},
   "outputs": [
    {
     "data": {
      "text/plain": [
       "120"
      ]
     },
     "execution_count": 31,
     "metadata": {},
     "output_type": "execute_result"
    }
   ],
   "source": [
    "#6\n",
    "def multi(start, stop):\n",
    "    P=1\n",
    "    for i in range(start, stop):\n",
    "        P=P*i\n",
    "    return P\n",
    "multi(1,6) # = 5! = 1.2.3.4.5 = 120"
   ]
  },
  {
   "cell_type": "code",
   "execution_count": 36,
   "metadata": {},
   "outputs": [
    {
     "ename": "TypeError",
     "evalue": "'<' not supported between instances of 'str' and 'int'",
     "output_type": "error",
     "traceback": [
      "\u001b[1;31m---------------------------------------------------------------------------\u001b[0m",
      "\u001b[1;31mTypeError\u001b[0m                                 Traceback (most recent call last)",
      "\u001b[1;32m~\\AppData\\Local\\Temp/ipykernel_10464/550759722.py\u001b[0m in \u001b[0;36m<module>\u001b[1;34m\u001b[0m\n\u001b[0;32m      1\u001b[0m \u001b[1;31m#7\u001b[0m\u001b[1;33m\u001b[0m\u001b[1;33m\u001b[0m\u001b[1;33m\u001b[0m\u001b[0m\n\u001b[0;32m      2\u001b[0m \u001b[0mA\u001b[0m\u001b[1;33m=\u001b[0m\u001b[1;33m[\u001b[0m\u001b[1;36m9\u001b[0m\u001b[1;33m,\u001b[0m\u001b[1;36m1\u001b[0m\u001b[1;33m,\u001b[0m\u001b[1;36m15\u001b[0m\u001b[1;33m,\u001b[0m\u001b[1;36m0\u001b[0m\u001b[1;33m,\u001b[0m\u001b[1;34m'abc'\u001b[0m\u001b[1;33m,\u001b[0m\u001b[1;36m2\u001b[0m\u001b[1;33m,\u001b[0m\u001b[1;34m'de'\u001b[0m\u001b[1;33m]\u001b[0m\u001b[1;33m\u001b[0m\u001b[1;33m\u001b[0m\u001b[0m\n\u001b[1;32m----> 3\u001b[1;33m \u001b[0mA\u001b[0m\u001b[1;33m.\u001b[0m\u001b[0msort\u001b[0m\u001b[1;33m(\u001b[0m\u001b[1;33m)\u001b[0m\u001b[1;33m\u001b[0m\u001b[1;33m\u001b[0m\u001b[0m\n\u001b[0m",
      "\u001b[1;31mTypeError\u001b[0m: '<' not supported between instances of 'str' and 'int'"
     ]
    }
   ],
   "source": [
    "#7\n",
    "A=[9,1,15,0,'abc',2,'de']\n",
    "A.sort()"
   ]
  },
  {
   "cell_type": "code",
   "execution_count": 37,
   "metadata": {},
   "outputs": [
    {
     "name": "stdout",
     "output_type": "stream",
     "text": [
      "[1, 3, 5]\n"
     ]
    }
   ],
   "source": [
    "#8 List các Ước số tự nhiên của N\n",
    "A = []\n",
    "#n = int(input('Nhập số tự nhiên N = '))\n",
    "n = 15\n",
    "for i in range(1, n):\n",
    "    if n % i == 0: A.append(i)\n",
    "print(A)"
   ]
  },
  {
   "cell_type": "code",
   "execution_count": 38,
   "metadata": {},
   "outputs": [
    {
     "name": "stdout",
     "output_type": "stream",
     "text": [
      "[5, 3, 1]\n"
     ]
    }
   ],
   "source": [
    "#9\n",
    "def listover(A):\n",
    "    B=[]\n",
    "    for item in range(len(A) - 1, -1, -1):\n",
    "        B.append(A[item])\n",
    "    return B\n",
    "a = [1,3,5]\n",
    "print(listover(a))"
   ]
  },
  {
   "cell_type": "code",
   "execution_count": 51,
   "metadata": {},
   "outputs": [
    {
     "name": "stdout",
     "output_type": "stream",
     "text": [
      "[7, 5]\n"
     ]
    }
   ],
   "source": [
    "#10 Cho list A, trả list B chứa các số nguyên tố trong list A\n",
    "A = [] ; B = []\n",
    "#n = int(input('Nhập số tự nhiên N = '))\n",
    "#for i in range(1, n+1):\n",
    "#    x = int(input(f'Nhập số tự nhiên thứ {i}: '))\n",
    "#    A.append(x)\n",
    "n = 5\n",
    "A = [1,7,4,5,10]\n",
    "max_val = max(A) #gán giá trị lớn nhất trong list A\n",
    "find_nguyento = [True for i in range(max_val + 1)]\n",
    "find_nguyento[0] = find_nguyento[1] = False\n",
    "i = 2 #index = 2\n",
    "while i**2 < max_val:\n",
    "    if find_nguyento[i]:\n",
    "        for j in range(i**2, max_val+1, i):\n",
    "            find_nguyento[j] = False\n",
    "    i += 1\n",
    "lenN = len(A)\n",
    "for i in range(lenN):\n",
    "    if find_nguyento[A[i]]:\n",
    "        B.append(A[i])\n",
    "print(B)"
   ]
  },
  {
   "cell_type": "code",
   "execution_count": 28,
   "metadata": {},
   "outputs": [
    {
     "name": "stdout",
     "output_type": "stream",
     "text": [
      "28.9\n"
     ]
    }
   ],
   "source": [
    "#11 Nhập N phần tử số và tính tổng chúng\n",
    "a = []\n",
    "#n = int(input(f'Nhập số tự nhiên N='))\n",
    "#for i in range(1, n+1):\n",
    "#    x = float(input(f'Nhập phần tử thứ {i}: '))\n",
    "#    a.append(x)\n",
    "n = 5\n",
    "a = [2, 3, 5.0, 7.9, 11]\n",
    "print(sum(a))"
   ]
  },
  {
   "cell_type": "code",
   "execution_count": 63,
   "metadata": {},
   "outputs": [
    {
     "name": "stdout",
     "output_type": "stream",
     "text": [
      "5\n",
      "1.5\n",
      "0.5\n"
     ]
    }
   ],
   "source": [
    "#12 Viết program tính:\n",
    "#a)\n",
    "def func_a(n):\n",
    "    total = 0\n",
    "    for i in range(1, n+1):\n",
    "        total += i**2\n",
    "    return total\n",
    "\n",
    "#b)\n",
    "def func_b(n):\n",
    "    total = 0\n",
    "    for i in range(1, n+1):\n",
    "        total += 1/i\n",
    "    return total\n",
    "\n",
    "#c)\n",
    "def func_c(n):\n",
    "    total = 0\n",
    "    for i in range(2, n+1):\n",
    "        total += 1/((i-1)*i)\n",
    "    return total\n",
    "\n",
    "#n = int(input(f'Nhập số tự nhiên N = '))\n",
    "n=2\n",
    "print(func_a(n))\n",
    "print(func_b(n))\n",
    "print(func_c(n))"
   ]
  },
  {
   "cell_type": "code",
   "execution_count": 60,
   "metadata": {},
   "outputs": [
    {
     "name": "stdout",
     "output_type": "stream",
     "text": [
      "[0, 1, 2, 3, 4, 5, 6, 7, 8, 9, 10, 11]\n"
     ]
    }
   ],
   "source": [
    "#13 ghép list tuần tự A, B vào C\n",
    "A = [0, 2, 4, 6, 8, 10]\n",
    "B = [1, 3, 5, 7, 9, 11]\n",
    "C = []\n",
    "C_len_min = min(len(A), len(B))\n",
    "C_len_max = max(len(A), len(B))\n",
    "\n",
    "for i in range(C_len_max):\n",
    "    if i >= C_len_min:\n",
    "        if len(A) == C_len_min: C.append(B[i])\n",
    "        if len(B) == C_len_min: C.append(A[i])\n",
    "    else:\n",
    "        C.append(A[i])\n",
    "        C.append(B[i])\n",
    "print(C)"
   ]
  },
  {
   "cell_type": "code",
   "execution_count": 10,
   "metadata": {},
   "outputs": [
    {
     "name": "stdout",
     "output_type": "stream",
     "text": [
      "[1.2, 0.15, 1, 50, 4.56]\n",
      "[1.2, 0.15, 1, 50, 4.56]\n",
      "[1.2, 0.15, 1, 50, 4.56]\n"
     ]
    }
   ],
   "source": [
    "#14 Viết function tách các số nguyên, số thực từ List A sang List B\n",
    "def TachSo(list):\n",
    "    list_result = []\n",
    "    for item in list:\n",
    "        if type(item) is int or type(item) is float: list_result.append(item)\n",
    "    return list_result\n",
    "\n",
    "def TachSo_2(list):\n",
    "    return [item for item in list if type(item) is int or type(item) is float]\n",
    "\n",
    "def TachSo_3(list):\n",
    "    return [item for item in list if isinstance(item, (int, float))]\n",
    "\n",
    "A = [1.2, 'one', 0.15, 'A', 'B', 'C', 1, 50, 4.56, 'C']\n",
    "B = TachSo(A)\n",
    "print(B)\n",
    "print(TachSo_2(A))\n",
    "print(TachSo_3(A))"
   ]
  },
  {
   "cell_type": "code",
   "execution_count": 11,
   "metadata": {},
   "outputs": [
    {
     "name": "stdout",
     "output_type": "stream",
     "text": [
      "['V', 'i', 'ệ', 't', ' ', 'N', 'a', 'm']\n"
     ]
    }
   ],
   "source": [
    "#15 Nhập String đầu vào --> tách ra list các ký tự bên trong string\n",
    "#string_input = input('Nhập 1 chuỗi bất kỳ: ')\n",
    "string_input = 'Việt Nam'\n",
    "list_result = list(string_input)\n",
    "print(list_result)"
   ]
  },
  {
   "cell_type": "code",
   "execution_count": 29,
   "metadata": {},
   "outputs": [
    {
     "name": "stdout",
     "output_type": "stream",
     "text": [
      "Day so Le   <10 : [1, 3, 5, 7, 9]\n",
      "Day so Chan <10 : [0, 2, 4, 6, 8]\n"
     ]
    }
   ],
   "source": [
    "#16 Nhập số N --> List các số tự nhiên lẻ / chẵn < N\n",
    "def TachChanle(n):\n",
    "    Chan = []\n",
    "    Le   = []\n",
    "    for i in range(n):\n",
    "        if i % 2 == 0: Chan.append(i)\n",
    "        else: Le.append(i)\n",
    "    return Chan, Le\n",
    "#n= int(input(f'Nhập số tự nhiên N='))\n",
    "n = 10\n",
    "B, A = TachChanle(10)\n",
    "print(f'Day so Le   <{n} : {A}')\n",
    "print(f'Day so Chan <{n} : {B}')"
   ]
  },
  {
   "cell_type": "code",
   "execution_count": 93,
   "metadata": {},
   "outputs": [
    {
     "name": "stdout",
     "output_type": "stream",
     "text": [
      "[1, 4, 4, 3, 1, 4, 0, 3, 0, 0, 1, 1, 4, 0, 3]\n",
      "[2, 3, 4, 2, 2, 1, 0, 1, 2, 0]\n",
      "[3, 7, 8, 5, 3, 5, 0, 4, 2, 0, 1, 1, 4, 0, 3]\n"
     ]
    }
   ],
   "source": [
    "#17 Cho 2 list số A, B --> tạo ra list C bằng cách cộng các số bên trong A + B với nhau theo thứ tự\n",
    "import random\n",
    "\n",
    "def create_list_random(len=10, min=0, max=100):\n",
    "    import random\n",
    "    #function randint tạo dãy số integer trong phạm vi (min, max)\n",
    "    return [random.randint(min, max) for item in range(len)]\n",
    "\n",
    "def merge_lists(list1, list2):\n",
    "    list_result = []\n",
    "    len_max = max(len(list1), len(list2))\n",
    "    len_min = min(len(list1), len(list2))\n",
    "    for i in range(len_max):\n",
    "        if i >= len_min:\n",
    "            if len(list1) == len_min: list_result.append(list2[i])\n",
    "            if len(list2) == len_min: list_result.append(list1[i])\n",
    "        else: list_result.append(list1[i] + list2[i])\n",
    "    return list_result\n",
    "\n",
    "A = create_list_random(random.randint(1,15),0,4)\n",
    "B = create_list_random(random.randint(1,15),0,4)\n",
    "C = merge_lists(A, B)\n",
    "print(A, B, C, sep='\\n')"
   ]
  },
  {
   "cell_type": "code",
   "execution_count": 98,
   "metadata": {},
   "outputs": [
    {
     "name": "stdout",
     "output_type": "stream",
     "text": [
      "['My number', 'is', 0, 3, 4, '981-6784']\n",
      "7\n",
      "3\n",
      "[0, 3, 4]\n",
      "['My number', 'is', '981-6784']\n"
     ]
    }
   ],
   "source": [
    "#18 Đếm item string, sum item number, tách 2 list string/num từ List hỗn hợp A cho trước\n",
    "A = ['My number', 'is', 0, 3, 4, '981-6784']\n",
    "def isNumber(item):\n",
    "    if type(item) is int or type(item) is float: return True\n",
    "    else: return False\n",
    "def isString(item):\n",
    "    if type(item) is str: return True\n",
    "    else: return False\n",
    "def SumAllNumber_fromList(list):\n",
    "    return sum([item for item in list if isNumber(item)])\n",
    "def CountAllString_fromList(list):\n",
    "    return len([item for item in list if isString(item)])\n",
    "def Filter_fromList(list):\n",
    "    Number = [item for item in list if isNumber(item)]\n",
    "    String = [item for item in list if isString(item)]\n",
    "    return Number, String\n",
    "\n",
    "B, C = Filter_fromList(A)\n",
    "print(A)\n",
    "print(SumAllNumber_fromList(A))\n",
    "print(CountAllString_fromList(A))\n",
    "print(B, C, sep='\\n')"
   ]
  },
  {
   "cell_type": "code",
   "execution_count": 104,
   "metadata": {},
   "outputs": [
    {
     "name": "stdout",
     "output_type": "stream",
     "text": [
      "[1, 0, 1.2, 4.5, 7, -1, 10, 7, 9, 1, 20, 15]\n",
      "[-1, 0, 1, 1, 1.2, 4.5, 7, 7, 9, 10, 15, 20]\n"
     ]
    }
   ],
   "source": [
    "#19 Viết function sort() thay thế cho phương thức sort() mặc định của List type.\n",
    "def sort_2(list):\n",
    "    result = list.copy() #do not use result = list\n",
    "    len_list = len(list)\n",
    "    for i1 in range(len_list - 1):\n",
    "        for i2 in range(i1 + 1, len_list):\n",
    "            if result[i1] > result[i2]: result[i1], result[i2] = result[i2], result[i1] #asc sorting\n",
    "    return result\n",
    "\n",
    "A = [1, 0, 1.2, 4.5, 7, -1, 10, 7, 9, 1, 20, 15]\n",
    "B = sort_2(A)\n",
    "print(A)\n",
    "print(B)"
   ]
  },
  {
   "cell_type": "code",
   "execution_count": 107,
   "metadata": {},
   "outputs": [
    {
     "name": "stdout",
     "output_type": "stream",
     "text": [
      "['My number', 'is', 0, 3, 4, 9, 8, 1, '6784']\n",
      "['My number', 'is', 0, 1, 3, 4, 8, 9, '6784']\n"
     ]
    }
   ],
   "source": [
    "#20 Tương tự #19, chỉ sắp xếp lại các item là số, còn string thì giữ nguyên vị trí\n",
    "def sort_3(list):\n",
    "    result = list.copy() #do not use result = list\n",
    "    len_list = len(list)\n",
    "    def isNumber(item):\n",
    "        if type(item) is int or type(item) is float: return True\n",
    "        else: return False\n",
    "    for i1 in range(len_list - 1):\n",
    "        for i2 in range(i1 + 1, len_list):\n",
    "            if isNumber(result[i1]) and isNumber(result[i2]) and result[i1] > result[i2]: result[i1], result[i2] = result[i2], result[i1] #asc sorting\n",
    "    return result\n",
    "\n",
    "A = ['My number', 'is', 0, 3, 4, 9, 8, 1, '6784']\n",
    "print(A, sort_3(A), sep='\\n')"
   ]
  },
  {
   "cell_type": "code",
   "execution_count": 109,
   "metadata": {},
   "outputs": [
    {
     "name": "stdout",
     "output_type": "stream",
     "text": [
      "[0, 1, 2, 3, 4, 5]\n",
      "['a', 'b', 'c']\n",
      "[0, 'a', 'b', 'c', 1, 2, 3, 4, 5]\n"
     ]
    }
   ],
   "source": [
    "#21 Chèn List B vào List A tại vị trí 0 <= k < len(A)\n",
    "def insertBtoA_atIndex(list1, list2, index):\n",
    "    return list1[:index] + list2 + list1[index:]\n",
    "A = [0, 1, 2, 3, 4, 5]\n",
    "B = ['a', 'b', 'c']\n",
    "k = 1\n",
    "print(A, B, insertBtoA_atIndex(A, B, k), sep='\\n')"
   ]
  }
 ],
 "metadata": {
  "kernelspec": {
   "display_name": "Python 3.9.6 64-bit",
   "language": "python",
   "name": "python3"
  },
  "language_info": {
   "codemirror_mode": {
    "name": "ipython",
    "version": 3
   },
   "file_extension": ".py",
   "mimetype": "text/x-python",
   "name": "python",
   "nbconvert_exporter": "python",
   "pygments_lexer": "ipython3",
   "version": "3.9.6"
  },
  "orig_nbformat": 4,
  "vscode": {
   "interpreter": {
    "hash": "bbc25e548b8fdb4739872b66bb4c170fba8f94c647bc6fede3672cd60c9fe150"
   }
  }
 },
 "nbformat": 4,
 "nbformat_minor": 2
}
